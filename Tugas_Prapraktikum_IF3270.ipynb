{
  "cells": [
    {
      "cell_type": "markdown",
      "metadata": {
        "id": "bdq8ydSd4xUy"
      },
      "source": [
        "# Tugas Prapraktikum\n",
        "\n",
        "Tugas Prapraktikum dikerjakan dengan _dataset_ [Rain in Australia](https://www.kaggle.com/datasets/jsphyg/weather-dataset-rattle-package/download?datasetVersionNumber=2). Tanpa meninjau waktu (`date`), prediksi status hujan pada keesokan harinya (`RainTomorrow`). Berikan nilai `1` jika diprediksi hujan pada keesokan harinya, `0` jika tidak.\n",
        "\n",
        "<br>\n",
        "Tugas dikerjakan secara berkelompok. Setiap kelompok terdiri atas 2 (dua) mahasiswa. Kumpulkan paling lambat pada Minggu, 16 April 2023, pukul 23:59 WIB melalui Edunex."
      ]
    },
    {
      "cell_type": "markdown",
      "metadata": {
        "id": "XAHqneEY7b7b"
      },
      "source": [
        "# 0. Persiapan Data and Pustaka"
      ]
    },
    {
      "cell_type": "code",
      "execution_count": 1,
      "metadata": {},
      "outputs": [
        {
          "name": "stdout",
          "output_type": "stream",
          "text": [
            "Requirement already satisfied: imbalanced-learn in c:\\users\\furniture\\appdata\\local\\packages\\pythonsoftwarefoundation.python.3.9_qbz5n2kfra8p0\\localcache\\local-packages\\python39\\site-packages (0.10.1)\n",
            "Requirement already satisfied: scipy>=1.3.2 in c:\\users\\furniture\\appdata\\local\\packages\\pythonsoftwarefoundation.python.3.9_qbz5n2kfra8p0\\localcache\\local-packages\\python39\\site-packages (from imbalanced-learn) (1.8.0)\n",
            "Requirement already satisfied: scikit-learn>=1.0.2 in c:\\users\\furniture\\appdata\\local\\packages\\pythonsoftwarefoundation.python.3.9_qbz5n2kfra8p0\\localcache\\local-packages\\python39\\site-packages (from imbalanced-learn) (1.0.2)\n",
            "Requirement already satisfied: threadpoolctl>=2.0.0 in c:\\users\\furniture\\appdata\\local\\packages\\pythonsoftwarefoundation.python.3.9_qbz5n2kfra8p0\\localcache\\local-packages\\python39\\site-packages (from imbalanced-learn) (3.1.0)\n",
            "Requirement already satisfied: joblib>=1.1.1 in c:\\users\\furniture\\appdata\\local\\packages\\pythonsoftwarefoundation.python.3.9_qbz5n2kfra8p0\\localcache\\local-packages\\python39\\site-packages (from imbalanced-learn) (1.2.0)\n",
            "Requirement already satisfied: numpy>=1.17.3 in c:\\users\\furniture\\appdata\\local\\packages\\pythonsoftwarefoundation.python.3.9_qbz5n2kfra8p0\\localcache\\local-packages\\python39\\site-packages (from imbalanced-learn) (1.21.3)\n"
          ]
        },
        {
          "name": "stderr",
          "output_type": "stream",
          "text": [
            "WARNING: There was an error checking the latest version of pip.\n"
          ]
        }
      ],
      "source": [
        "!pip install imbalanced-learn"
      ]
    },
    {
      "cell_type": "code",
      "execution_count": 2,
      "metadata": {
        "id": "zsBbpcIi7fHi"
      },
      "outputs": [],
      "source": [
        "# Letakkan pustaka di sini.\n",
        "import pandas as pd\n",
        "import seaborn as sns\n",
        "import matplotlib.pyplot as plt\n",
        "\n",
        "from sklearn.linear_model import LogisticRegression\n",
        "from sklearn.ensemble import VotingClassifier, StackingClassifier\n",
        "from sklearn import svm\n",
        "from imblearn.under_sampling import RandomUnderSampler\n",
        "        \n",
        "from sklearn.metrics import classification_report\n",
        "\n",
        "from imblearn.over_sampling import SMOTENC"
      ]
    },
    {
      "cell_type": "code",
      "execution_count": 3,
      "metadata": {
        "id": "OWLkjeKo7gdD"
      },
      "outputs": [],
      "source": [
        "# Baca data di sini.\n",
        "rain_data = pd.read_csv('weatherAUS.csv')"
      ]
    },
    {
      "cell_type": "markdown",
      "metadata": {
        "id": "JYGzyrantR1r"
      },
      "source": [
        "# I. Pemahaman Data\n",
        "Tujuan dari bagian ini adalah peserta dapat memahami kualitas dari data yang diberikan. Hal yang diliputi adalah sebagai berikut:\n",
        "1. Ukuran data\n",
        "2. Statistik dari tiap fitur\n",
        "3. Pencilan (_outlier_)\n",
        "4. Korelasi\n",
        "5. Distribusi "
      ]
    },
    {
      "cell_type": "markdown",
      "metadata": {
        "id": "8SMf9-ikuoCe"
      },
      "source": [
        "## I.1 \n",
        "Carilah:\n",
        "1. Ukuran dari data (instansi dan fitur)\n",
        "2. Tipe dari setiap fitur \n",
        "3. Banyak nilai unik dari fitur yang bertipe kategorikal\n",
        "4. Nilai minimum, maksimum, rata-rata, median, dan standar deviasi dari fitur nonkategorikal"
      ]
    },
    {
      "cell_type": "code",
      "execution_count": 4,
      "metadata": {
        "colab": {
          "base_uri": "https://localhost:8080/",
          "height": 438
        },
        "id": "SAxrfZySuM3-",
        "outputId": "2d2b6331-f103-4408-cef9-0c264e824337"
      },
      "outputs": [
        {
          "name": "stdout",
          "output_type": "stream",
          "text": [
            "Size of dataset is 145460 rows x 23 columns\n",
            "Number of instances: 145460\n",
            "rain_data: 22\n"
          ]
        },
        {
          "data": {
            "text/html": [
              "<div>\n",
              "<style scoped>\n",
              "    .dataframe tbody tr th:only-of-type {\n",
              "        vertical-align: middle;\n",
              "    }\n",
              "\n",
              "    .dataframe tbody tr th {\n",
              "        vertical-align: top;\n",
              "    }\n",
              "\n",
              "    .dataframe thead th {\n",
              "        text-align: right;\n",
              "    }\n",
              "</style>\n",
              "<table border=\"1\" class=\"dataframe\">\n",
              "  <thead>\n",
              "    <tr style=\"text-align: right;\">\n",
              "      <th></th>\n",
              "      <th>Date</th>\n",
              "      <th>Location</th>\n",
              "      <th>MinTemp</th>\n",
              "      <th>MaxTemp</th>\n",
              "      <th>Rainfall</th>\n",
              "      <th>Evaporation</th>\n",
              "      <th>Sunshine</th>\n",
              "      <th>WindGustDir</th>\n",
              "      <th>WindGustSpeed</th>\n",
              "      <th>WindDir9am</th>\n",
              "      <th>...</th>\n",
              "      <th>Humidity9am</th>\n",
              "      <th>Humidity3pm</th>\n",
              "      <th>Pressure9am</th>\n",
              "      <th>Pressure3pm</th>\n",
              "      <th>Cloud9am</th>\n",
              "      <th>Cloud3pm</th>\n",
              "      <th>Temp9am</th>\n",
              "      <th>Temp3pm</th>\n",
              "      <th>RainToday</th>\n",
              "      <th>RainTomorrow</th>\n",
              "    </tr>\n",
              "  </thead>\n",
              "  <tbody>\n",
              "    <tr>\n",
              "      <th>0</th>\n",
              "      <td>2008-12-01</td>\n",
              "      <td>Albury</td>\n",
              "      <td>13.4</td>\n",
              "      <td>22.9</td>\n",
              "      <td>0.6</td>\n",
              "      <td>NaN</td>\n",
              "      <td>NaN</td>\n",
              "      <td>W</td>\n",
              "      <td>44.0</td>\n",
              "      <td>W</td>\n",
              "      <td>...</td>\n",
              "      <td>71.0</td>\n",
              "      <td>22.0</td>\n",
              "      <td>1007.7</td>\n",
              "      <td>1007.1</td>\n",
              "      <td>8.0</td>\n",
              "      <td>NaN</td>\n",
              "      <td>16.9</td>\n",
              "      <td>21.8</td>\n",
              "      <td>No</td>\n",
              "      <td>No</td>\n",
              "    </tr>\n",
              "    <tr>\n",
              "      <th>1</th>\n",
              "      <td>2008-12-02</td>\n",
              "      <td>Albury</td>\n",
              "      <td>7.4</td>\n",
              "      <td>25.1</td>\n",
              "      <td>0.0</td>\n",
              "      <td>NaN</td>\n",
              "      <td>NaN</td>\n",
              "      <td>WNW</td>\n",
              "      <td>44.0</td>\n",
              "      <td>NNW</td>\n",
              "      <td>...</td>\n",
              "      <td>44.0</td>\n",
              "      <td>25.0</td>\n",
              "      <td>1010.6</td>\n",
              "      <td>1007.8</td>\n",
              "      <td>NaN</td>\n",
              "      <td>NaN</td>\n",
              "      <td>17.2</td>\n",
              "      <td>24.3</td>\n",
              "      <td>No</td>\n",
              "      <td>No</td>\n",
              "    </tr>\n",
              "    <tr>\n",
              "      <th>2</th>\n",
              "      <td>2008-12-03</td>\n",
              "      <td>Albury</td>\n",
              "      <td>12.9</td>\n",
              "      <td>25.7</td>\n",
              "      <td>0.0</td>\n",
              "      <td>NaN</td>\n",
              "      <td>NaN</td>\n",
              "      <td>WSW</td>\n",
              "      <td>46.0</td>\n",
              "      <td>W</td>\n",
              "      <td>...</td>\n",
              "      <td>38.0</td>\n",
              "      <td>30.0</td>\n",
              "      <td>1007.6</td>\n",
              "      <td>1008.7</td>\n",
              "      <td>NaN</td>\n",
              "      <td>2.0</td>\n",
              "      <td>21.0</td>\n",
              "      <td>23.2</td>\n",
              "      <td>No</td>\n",
              "      <td>No</td>\n",
              "    </tr>\n",
              "    <tr>\n",
              "      <th>3</th>\n",
              "      <td>2008-12-04</td>\n",
              "      <td>Albury</td>\n",
              "      <td>9.2</td>\n",
              "      <td>28.0</td>\n",
              "      <td>0.0</td>\n",
              "      <td>NaN</td>\n",
              "      <td>NaN</td>\n",
              "      <td>NE</td>\n",
              "      <td>24.0</td>\n",
              "      <td>SE</td>\n",
              "      <td>...</td>\n",
              "      <td>45.0</td>\n",
              "      <td>16.0</td>\n",
              "      <td>1017.6</td>\n",
              "      <td>1012.8</td>\n",
              "      <td>NaN</td>\n",
              "      <td>NaN</td>\n",
              "      <td>18.1</td>\n",
              "      <td>26.5</td>\n",
              "      <td>No</td>\n",
              "      <td>No</td>\n",
              "    </tr>\n",
              "    <tr>\n",
              "      <th>4</th>\n",
              "      <td>2008-12-05</td>\n",
              "      <td>Albury</td>\n",
              "      <td>17.5</td>\n",
              "      <td>32.3</td>\n",
              "      <td>1.0</td>\n",
              "      <td>NaN</td>\n",
              "      <td>NaN</td>\n",
              "      <td>W</td>\n",
              "      <td>41.0</td>\n",
              "      <td>ENE</td>\n",
              "      <td>...</td>\n",
              "      <td>82.0</td>\n",
              "      <td>33.0</td>\n",
              "      <td>1010.8</td>\n",
              "      <td>1006.0</td>\n",
              "      <td>7.0</td>\n",
              "      <td>8.0</td>\n",
              "      <td>17.8</td>\n",
              "      <td>29.7</td>\n",
              "      <td>No</td>\n",
              "      <td>No</td>\n",
              "    </tr>\n",
              "  </tbody>\n",
              "</table>\n",
              "<p>5 rows × 23 columns</p>\n",
              "</div>"
            ],
            "text/plain": [
              "         Date Location  MinTemp  MaxTemp  Rainfall  Evaporation  Sunshine  \\\n",
              "0  2008-12-01   Albury     13.4     22.9       0.6          NaN       NaN   \n",
              "1  2008-12-02   Albury      7.4     25.1       0.0          NaN       NaN   \n",
              "2  2008-12-03   Albury     12.9     25.7       0.0          NaN       NaN   \n",
              "3  2008-12-04   Albury      9.2     28.0       0.0          NaN       NaN   \n",
              "4  2008-12-05   Albury     17.5     32.3       1.0          NaN       NaN   \n",
              "\n",
              "  WindGustDir  WindGustSpeed WindDir9am  ... Humidity9am  Humidity3pm  \\\n",
              "0           W           44.0          W  ...        71.0         22.0   \n",
              "1         WNW           44.0        NNW  ...        44.0         25.0   \n",
              "2         WSW           46.0          W  ...        38.0         30.0   \n",
              "3          NE           24.0         SE  ...        45.0         16.0   \n",
              "4           W           41.0        ENE  ...        82.0         33.0   \n",
              "\n",
              "   Pressure9am  Pressure3pm  Cloud9am  Cloud3pm  Temp9am  Temp3pm  RainToday  \\\n",
              "0       1007.7       1007.1       8.0       NaN     16.9     21.8         No   \n",
              "1       1010.6       1007.8       NaN       NaN     17.2     24.3         No   \n",
              "2       1007.6       1008.7       NaN       2.0     21.0     23.2         No   \n",
              "3       1017.6       1012.8       NaN       NaN     18.1     26.5         No   \n",
              "4       1010.8       1006.0       7.0       8.0     17.8     29.7         No   \n",
              "\n",
              "   RainTomorrow  \n",
              "0            No  \n",
              "1            No  \n",
              "2            No  \n",
              "3            No  \n",
              "4            No  \n",
              "\n",
              "[5 rows x 23 columns]"
            ]
          },
          "execution_count": 4,
          "metadata": {},
          "output_type": "execute_result"
        }
      ],
      "source": [
        "#1 Ukuran dari data (instansi dan fitur)\n",
        "print(\"Size of dataset is \" + str(rain_data.shape[0]) +\" rows x \" + str(rain_data.shape[1]) + \" columns\")\n",
        "print(\"Number of instances: \" + str(rain_data.shape[0]))\n",
        "print(\"rain_data: \" + str(rain_data.shape[1]-1))\n",
        "rain_data.head()"
      ]
    },
    {
      "cell_type": "code",
      "execution_count": 5,
      "metadata": {
        "colab": {
          "base_uri": "https://localhost:8080/"
        },
        "id": "aOCVps2pqUbF",
        "outputId": "985842d9-e92f-478d-8266-a0a8f78a940c"
      },
      "outputs": [
        {
          "name": "stdout",
          "output_type": "stream",
          "text": [
            "<class 'pandas.core.frame.DataFrame'>\n",
            "RangeIndex: 145460 entries, 0 to 145459\n",
            "Data columns (total 23 columns):\n",
            " #   Column         Non-Null Count   Dtype  \n",
            "---  ------         --------------   -----  \n",
            " 0   Date           145460 non-null  object \n",
            " 1   Location       145460 non-null  object \n",
            " 2   MinTemp        143975 non-null  float64\n",
            " 3   MaxTemp        144199 non-null  float64\n",
            " 4   Rainfall       142199 non-null  float64\n",
            " 5   Evaporation    82670 non-null   float64\n",
            " 6   Sunshine       75625 non-null   float64\n",
            " 7   WindGustDir    135134 non-null  object \n",
            " 8   WindGustSpeed  135197 non-null  float64\n",
            " 9   WindDir9am     134894 non-null  object \n",
            " 10  WindDir3pm     141232 non-null  object \n",
            " 11  WindSpeed9am   143693 non-null  float64\n",
            " 12  WindSpeed3pm   142398 non-null  float64\n",
            " 13  Humidity9am    142806 non-null  float64\n",
            " 14  Humidity3pm    140953 non-null  float64\n",
            " 15  Pressure9am    130395 non-null  float64\n",
            " 16  Pressure3pm    130432 non-null  float64\n",
            " 17  Cloud9am       89572 non-null   float64\n",
            " 18  Cloud3pm       86102 non-null   float64\n",
            " 19  Temp9am        143693 non-null  float64\n",
            " 20  Temp3pm        141851 non-null  float64\n",
            " 21  RainToday      142199 non-null  object \n",
            " 22  RainTomorrow   142193 non-null  object \n",
            "dtypes: float64(16), object(7)\n",
            "memory usage: 25.5+ MB\n"
          ]
        }
      ],
      "source": [
        "#2 Tipe dari setiap fitur\n",
        "rain_data.info()"
      ]
    },
    {
      "cell_type": "code",
      "execution_count": 6,
      "metadata": {
        "colab": {
          "base_uri": "https://localhost:8080/"
        },
        "id": "-NJcIjmEqUbG",
        "outputId": "8032b26d-f0fb-489f-9ded-39f2da98d939"
      },
      "outputs": [
        {
          "data": {
            "text/plain": [
              "2013-11-12    49\n",
              "2014-09-01    49\n",
              "2014-08-23    49\n",
              "2014-08-24    49\n",
              "2014-08-25    49\n",
              "              ..\n",
              "2007-11-29     1\n",
              "2007-11-28     1\n",
              "2007-11-27     1\n",
              "2007-11-26     1\n",
              "2008-01-31     1\n",
              "Name: Date, Length: 3436, dtype: int64"
            ]
          },
          "execution_count": 6,
          "metadata": {},
          "output_type": "execute_result"
        }
      ],
      "source": [
        "#3 Banyak nilai unik dari fitur yang bertipe kategorikal\n",
        "rain_data[\"Date\"].value_counts() #i dont think date categorical data?"
      ]
    },
    {
      "cell_type": "code",
      "execution_count": 7,
      "metadata": {
        "colab": {
          "base_uri": "https://localhost:8080/"
        },
        "id": "E9UqMtg6qUbH",
        "outputId": "f2c865e6-da04-4a76-e624-4133a4bbcfca"
      },
      "outputs": [
        {
          "data": {
            "text/plain": [
              "Canberra            3436\n",
              "Sydney              3344\n",
              "Darwin              3193\n",
              "Melbourne           3193\n",
              "Brisbane            3193\n",
              "Adelaide            3193\n",
              "Perth               3193\n",
              "Hobart              3193\n",
              "Albany              3040\n",
              "MountGambier        3040\n",
              "Ballarat            3040\n",
              "Townsville          3040\n",
              "GoldCoast           3040\n",
              "Cairns              3040\n",
              "Launceston          3040\n",
              "AliceSprings        3040\n",
              "Bendigo             3040\n",
              "Albury              3040\n",
              "MountGinini         3040\n",
              "Wollongong          3040\n",
              "Newcastle           3039\n",
              "Tuggeranong         3039\n",
              "Penrith             3039\n",
              "Woomera             3009\n",
              "Nuriootpa           3009\n",
              "Cobar               3009\n",
              "CoffsHarbour        3009\n",
              "Moree               3009\n",
              "Sale                3009\n",
              "PerthAirport        3009\n",
              "PearceRAAF          3009\n",
              "Witchcliffe         3009\n",
              "BadgerysCreek       3009\n",
              "Mildura             3009\n",
              "NorfolkIsland       3009\n",
              "MelbourneAirport    3009\n",
              "Richmond            3009\n",
              "SydneyAirport       3009\n",
              "WaggaWagga          3009\n",
              "Williamtown         3009\n",
              "Dartmoor            3009\n",
              "Watsonia            3009\n",
              "Portland            3009\n",
              "Walpole             3006\n",
              "NorahHead           3004\n",
              "SalmonGums          3001\n",
              "Katherine           1578\n",
              "Nhil                1578\n",
              "Uluru               1578\n",
              "Name: Location, dtype: int64"
            ]
          },
          "execution_count": 7,
          "metadata": {},
          "output_type": "execute_result"
        }
      ],
      "source": [
        "rain_data[\"Location\"].value_counts()"
      ]
    },
    {
      "cell_type": "code",
      "execution_count": 8,
      "metadata": {
        "colab": {
          "base_uri": "https://localhost:8080/"
        },
        "id": "Tf-NyK8lqUbH",
        "outputId": "a0e14dbf-c269-487c-eb1a-2d2f3e0df88c"
      },
      "outputs": [
        {
          "data": {
            "text/plain": [
              "W      9915\n",
              "SE     9418\n",
              "N      9313\n",
              "SSE    9216\n",
              "E      9181\n",
              "S      9168\n",
              "WSW    9069\n",
              "SW     8967\n",
              "SSW    8736\n",
              "WNW    8252\n",
              "NW     8122\n",
              "ENE    8104\n",
              "ESE    7372\n",
              "NE     7133\n",
              "NNW    6620\n",
              "NNE    6548\n",
              "Name: WindGustDir, dtype: int64"
            ]
          },
          "execution_count": 8,
          "metadata": {},
          "output_type": "execute_result"
        }
      ],
      "source": [
        "rain_data[\"WindGustDir\"].value_counts()"
      ]
    },
    {
      "cell_type": "code",
      "execution_count": 9,
      "metadata": {
        "colab": {
          "base_uri": "https://localhost:8080/"
        },
        "id": "cqmhhtPrqUbI",
        "outputId": "b48db122-4cd4-4715-d94f-20a0d99f3aef"
      },
      "outputs": [
        {
          "data": {
            "text/plain": [
              "N      11758\n",
              "SE      9287\n",
              "E       9176\n",
              "SSE     9112\n",
              "NW      8749\n",
              "S       8659\n",
              "W       8459\n",
              "SW      8423\n",
              "NNE     8129\n",
              "NNW     7980\n",
              "ENE     7836\n",
              "NE      7671\n",
              "ESE     7630\n",
              "SSW     7587\n",
              "WNW     7414\n",
              "WSW     7024\n",
              "Name: WindDir9am, dtype: int64"
            ]
          },
          "execution_count": 9,
          "metadata": {},
          "output_type": "execute_result"
        }
      ],
      "source": [
        "rain_data[\"WindDir9am\"].value_counts()"
      ]
    },
    {
      "cell_type": "code",
      "execution_count": 10,
      "metadata": {
        "colab": {
          "base_uri": "https://localhost:8080/"
        },
        "id": "ROjowTDzqUbI",
        "outputId": "a0bd362e-b029-484b-b0bc-abe0919bbd6b"
      },
      "outputs": [
        {
          "data": {
            "text/plain": [
              "SE     10838\n",
              "W      10110\n",
              "S       9926\n",
              "WSW     9518\n",
              "SSE     9399\n",
              "SW      9354\n",
              "N       8890\n",
              "WNW     8874\n",
              "NW      8610\n",
              "ESE     8505\n",
              "E       8472\n",
              "NE      8263\n",
              "SSW     8156\n",
              "NNW     7870\n",
              "ENE     7857\n",
              "NNE     6590\n",
              "Name: WindDir3pm, dtype: int64"
            ]
          },
          "execution_count": 10,
          "metadata": {},
          "output_type": "execute_result"
        }
      ],
      "source": [
        "rain_data[\"WindDir3pm\"].value_counts()"
      ]
    },
    {
      "cell_type": "code",
      "execution_count": 11,
      "metadata": {
        "colab": {
          "base_uri": "https://localhost:8080/"
        },
        "id": "y8eprua5qUbJ",
        "outputId": "ca955255-3e70-48dd-8573-b016c654098d"
      },
      "outputs": [
        {
          "data": {
            "text/plain": [
              "No     110319\n",
              "Yes     31880\n",
              "Name: RainToday, dtype: int64"
            ]
          },
          "execution_count": 11,
          "metadata": {},
          "output_type": "execute_result"
        }
      ],
      "source": [
        "rain_data[\"RainToday\"].value_counts()"
      ]
    },
    {
      "cell_type": "code",
      "execution_count": 12,
      "metadata": {
        "colab": {
          "base_uri": "https://localhost:8080/",
          "height": 364
        },
        "id": "5dAaxLFiqUbK",
        "outputId": "4a106979-2ff5-4036-e3ee-062a720664b6"
      },
      "outputs": [
        {
          "data": {
            "text/html": [
              "<div>\n",
              "<style scoped>\n",
              "    .dataframe tbody tr th:only-of-type {\n",
              "        vertical-align: middle;\n",
              "    }\n",
              "\n",
              "    .dataframe tbody tr th {\n",
              "        vertical-align: top;\n",
              "    }\n",
              "\n",
              "    .dataframe thead th {\n",
              "        text-align: right;\n",
              "    }\n",
              "</style>\n",
              "<table border=\"1\" class=\"dataframe\">\n",
              "  <thead>\n",
              "    <tr style=\"text-align: right;\">\n",
              "      <th></th>\n",
              "      <th>MinTemp</th>\n",
              "      <th>MaxTemp</th>\n",
              "      <th>Rainfall</th>\n",
              "      <th>Evaporation</th>\n",
              "      <th>Sunshine</th>\n",
              "      <th>WindGustSpeed</th>\n",
              "      <th>WindSpeed9am</th>\n",
              "      <th>WindSpeed3pm</th>\n",
              "      <th>Humidity9am</th>\n",
              "      <th>Humidity3pm</th>\n",
              "      <th>Pressure9am</th>\n",
              "      <th>Pressure3pm</th>\n",
              "      <th>Cloud9am</th>\n",
              "      <th>Cloud3pm</th>\n",
              "      <th>Temp9am</th>\n",
              "      <th>Temp3pm</th>\n",
              "    </tr>\n",
              "  </thead>\n",
              "  <tbody>\n",
              "    <tr>\n",
              "      <th>count</th>\n",
              "      <td>143975.000000</td>\n",
              "      <td>144199.000000</td>\n",
              "      <td>142199.000000</td>\n",
              "      <td>82670.000000</td>\n",
              "      <td>75625.000000</td>\n",
              "      <td>135197.000000</td>\n",
              "      <td>143693.000000</td>\n",
              "      <td>142398.000000</td>\n",
              "      <td>142806.000000</td>\n",
              "      <td>140953.000000</td>\n",
              "      <td>130395.00000</td>\n",
              "      <td>130432.000000</td>\n",
              "      <td>89572.000000</td>\n",
              "      <td>86102.000000</td>\n",
              "      <td>143693.000000</td>\n",
              "      <td>141851.00000</td>\n",
              "    </tr>\n",
              "    <tr>\n",
              "      <th>mean</th>\n",
              "      <td>12.194034</td>\n",
              "      <td>23.221348</td>\n",
              "      <td>2.360918</td>\n",
              "      <td>5.468232</td>\n",
              "      <td>7.611178</td>\n",
              "      <td>40.035230</td>\n",
              "      <td>14.043426</td>\n",
              "      <td>18.662657</td>\n",
              "      <td>68.880831</td>\n",
              "      <td>51.539116</td>\n",
              "      <td>1017.64994</td>\n",
              "      <td>1015.255889</td>\n",
              "      <td>4.447461</td>\n",
              "      <td>4.509930</td>\n",
              "      <td>16.990631</td>\n",
              "      <td>21.68339</td>\n",
              "    </tr>\n",
              "    <tr>\n",
              "      <th>std</th>\n",
              "      <td>6.398495</td>\n",
              "      <td>7.119049</td>\n",
              "      <td>8.478060</td>\n",
              "      <td>4.193704</td>\n",
              "      <td>3.785483</td>\n",
              "      <td>13.607062</td>\n",
              "      <td>8.915375</td>\n",
              "      <td>8.809800</td>\n",
              "      <td>19.029164</td>\n",
              "      <td>20.795902</td>\n",
              "      <td>7.10653</td>\n",
              "      <td>7.037414</td>\n",
              "      <td>2.887159</td>\n",
              "      <td>2.720357</td>\n",
              "      <td>6.488753</td>\n",
              "      <td>6.93665</td>\n",
              "    </tr>\n",
              "    <tr>\n",
              "      <th>min</th>\n",
              "      <td>-8.500000</td>\n",
              "      <td>-4.800000</td>\n",
              "      <td>0.000000</td>\n",
              "      <td>0.000000</td>\n",
              "      <td>0.000000</td>\n",
              "      <td>6.000000</td>\n",
              "      <td>0.000000</td>\n",
              "      <td>0.000000</td>\n",
              "      <td>0.000000</td>\n",
              "      <td>0.000000</td>\n",
              "      <td>980.50000</td>\n",
              "      <td>977.100000</td>\n",
              "      <td>0.000000</td>\n",
              "      <td>0.000000</td>\n",
              "      <td>-7.200000</td>\n",
              "      <td>-5.40000</td>\n",
              "    </tr>\n",
              "    <tr>\n",
              "      <th>25%</th>\n",
              "      <td>7.600000</td>\n",
              "      <td>17.900000</td>\n",
              "      <td>0.000000</td>\n",
              "      <td>2.600000</td>\n",
              "      <td>4.800000</td>\n",
              "      <td>31.000000</td>\n",
              "      <td>7.000000</td>\n",
              "      <td>13.000000</td>\n",
              "      <td>57.000000</td>\n",
              "      <td>37.000000</td>\n",
              "      <td>1012.90000</td>\n",
              "      <td>1010.400000</td>\n",
              "      <td>1.000000</td>\n",
              "      <td>2.000000</td>\n",
              "      <td>12.300000</td>\n",
              "      <td>16.60000</td>\n",
              "    </tr>\n",
              "    <tr>\n",
              "      <th>50%</th>\n",
              "      <td>12.000000</td>\n",
              "      <td>22.600000</td>\n",
              "      <td>0.000000</td>\n",
              "      <td>4.800000</td>\n",
              "      <td>8.400000</td>\n",
              "      <td>39.000000</td>\n",
              "      <td>13.000000</td>\n",
              "      <td>19.000000</td>\n",
              "      <td>70.000000</td>\n",
              "      <td>52.000000</td>\n",
              "      <td>1017.60000</td>\n",
              "      <td>1015.200000</td>\n",
              "      <td>5.000000</td>\n",
              "      <td>5.000000</td>\n",
              "      <td>16.700000</td>\n",
              "      <td>21.10000</td>\n",
              "    </tr>\n",
              "    <tr>\n",
              "      <th>75%</th>\n",
              "      <td>16.900000</td>\n",
              "      <td>28.200000</td>\n",
              "      <td>0.800000</td>\n",
              "      <td>7.400000</td>\n",
              "      <td>10.600000</td>\n",
              "      <td>48.000000</td>\n",
              "      <td>19.000000</td>\n",
              "      <td>24.000000</td>\n",
              "      <td>83.000000</td>\n",
              "      <td>66.000000</td>\n",
              "      <td>1022.40000</td>\n",
              "      <td>1020.000000</td>\n",
              "      <td>7.000000</td>\n",
              "      <td>7.000000</td>\n",
              "      <td>21.600000</td>\n",
              "      <td>26.40000</td>\n",
              "    </tr>\n",
              "    <tr>\n",
              "      <th>max</th>\n",
              "      <td>33.900000</td>\n",
              "      <td>48.100000</td>\n",
              "      <td>371.000000</td>\n",
              "      <td>145.000000</td>\n",
              "      <td>14.500000</td>\n",
              "      <td>135.000000</td>\n",
              "      <td>130.000000</td>\n",
              "      <td>87.000000</td>\n",
              "      <td>100.000000</td>\n",
              "      <td>100.000000</td>\n",
              "      <td>1041.00000</td>\n",
              "      <td>1039.600000</td>\n",
              "      <td>9.000000</td>\n",
              "      <td>9.000000</td>\n",
              "      <td>40.200000</td>\n",
              "      <td>46.70000</td>\n",
              "    </tr>\n",
              "  </tbody>\n",
              "</table>\n",
              "</div>"
            ],
            "text/plain": [
              "             MinTemp        MaxTemp       Rainfall   Evaporation  \\\n",
              "count  143975.000000  144199.000000  142199.000000  82670.000000   \n",
              "mean       12.194034      23.221348       2.360918      5.468232   \n",
              "std         6.398495       7.119049       8.478060      4.193704   \n",
              "min        -8.500000      -4.800000       0.000000      0.000000   \n",
              "25%         7.600000      17.900000       0.000000      2.600000   \n",
              "50%        12.000000      22.600000       0.000000      4.800000   \n",
              "75%        16.900000      28.200000       0.800000      7.400000   \n",
              "max        33.900000      48.100000     371.000000    145.000000   \n",
              "\n",
              "           Sunshine  WindGustSpeed   WindSpeed9am   WindSpeed3pm  \\\n",
              "count  75625.000000  135197.000000  143693.000000  142398.000000   \n",
              "mean       7.611178      40.035230      14.043426      18.662657   \n",
              "std        3.785483      13.607062       8.915375       8.809800   \n",
              "min        0.000000       6.000000       0.000000       0.000000   \n",
              "25%        4.800000      31.000000       7.000000      13.000000   \n",
              "50%        8.400000      39.000000      13.000000      19.000000   \n",
              "75%       10.600000      48.000000      19.000000      24.000000   \n",
              "max       14.500000     135.000000     130.000000      87.000000   \n",
              "\n",
              "         Humidity9am    Humidity3pm   Pressure9am    Pressure3pm  \\\n",
              "count  142806.000000  140953.000000  130395.00000  130432.000000   \n",
              "mean       68.880831      51.539116    1017.64994    1015.255889   \n",
              "std        19.029164      20.795902       7.10653       7.037414   \n",
              "min         0.000000       0.000000     980.50000     977.100000   \n",
              "25%        57.000000      37.000000    1012.90000    1010.400000   \n",
              "50%        70.000000      52.000000    1017.60000    1015.200000   \n",
              "75%        83.000000      66.000000    1022.40000    1020.000000   \n",
              "max       100.000000     100.000000    1041.00000    1039.600000   \n",
              "\n",
              "           Cloud9am      Cloud3pm        Temp9am       Temp3pm  \n",
              "count  89572.000000  86102.000000  143693.000000  141851.00000  \n",
              "mean       4.447461      4.509930      16.990631      21.68339  \n",
              "std        2.887159      2.720357       6.488753       6.93665  \n",
              "min        0.000000      0.000000      -7.200000      -5.40000  \n",
              "25%        1.000000      2.000000      12.300000      16.60000  \n",
              "50%        5.000000      5.000000      16.700000      21.10000  \n",
              "75%        7.000000      7.000000      21.600000      26.40000  \n",
              "max        9.000000      9.000000      40.200000      46.70000  "
            ]
          },
          "execution_count": 12,
          "metadata": {},
          "output_type": "execute_result"
        }
      ],
      "source": [
        "#4 Nilai minimum, maksimum, rata-rata, median, dan standar deviasi dari fitur nonkategorikal\n",
        "rain_data[[\"MinTemp\",\"MaxTemp\",\"Rainfall\",\"Evaporation\",\"Sunshine\",\"WindGustSpeed\",\"WindSpeed9am\",\"WindSpeed3pm\",\"Humidity9am\",\"Humidity3pm\",\"Pressure9am\",\"Pressure3pm\",\"Cloud9am\",\"Cloud3pm\",\"Temp9am\", \"Temp3pm\"]].describe()"
      ]
    },
    {
      "cell_type": "markdown",
      "metadata": {
        "id": "VE1l_gOTwHuz"
      },
      "source": [
        "## I.2\n",
        "Carilah:\n",
        "1. Nilai hilang (_missing_) dari setiap fitur\n",
        "2. Nilai pencilan (_outlier_) dari setiap fitur"
      ]
    },
    {
      "cell_type": "code",
      "execution_count": 13,
      "metadata": {
        "colab": {
          "base_uri": "https://localhost:8080/"
        },
        "id": "IGe-YWAvwQDr",
        "outputId": "8dccc17a-ee97-4c53-82bd-10da91d2129b"
      },
      "outputs": [
        {
          "data": {
            "text/plain": [
              "Date                 0\n",
              "Location             0\n",
              "MinTemp           1485\n",
              "MaxTemp           1261\n",
              "Rainfall          3261\n",
              "Evaporation      62790\n",
              "Sunshine         69835\n",
              "WindGustDir      10326\n",
              "WindGustSpeed    10263\n",
              "WindDir9am       10566\n",
              "WindDir3pm        4228\n",
              "WindSpeed9am      1767\n",
              "WindSpeed3pm      3062\n",
              "Humidity9am       2654\n",
              "Humidity3pm       4507\n",
              "Pressure9am      15065\n",
              "Pressure3pm      15028\n",
              "Cloud9am         55888\n",
              "Cloud3pm         59358\n",
              "Temp9am           1767\n",
              "Temp3pm           3609\n",
              "RainToday         3261\n",
              "RainTomorrow      3267\n",
              "dtype: int64"
            ]
          },
          "execution_count": 13,
          "metadata": {},
          "output_type": "execute_result"
        }
      ],
      "source": [
        "#1. Nilai missing dari setiap fitur\n",
        "rain_data.isnull().sum()\n"
      ]
    },
    {
      "cell_type": "code",
      "execution_count": 14,
      "metadata": {
        "colab": {
          "base_uri": "https://localhost:8080/"
        },
        "id": "OiIMh66Oubtm",
        "outputId": "73d1e751-4a73-4c64-da8a-8f74e05b0436"
      },
      "outputs": [
        {
          "name": "stdout",
          "output_type": "stream",
          "text": [
            "MinTemp             54\n",
            "MaxTemp            489\n",
            "Rainfall         25578\n",
            "Evaporation       1995\n",
            "Sunshine             0\n",
            "WindGustSpeed     3092\n",
            "WindSpeed9am      1817\n",
            "WindSpeed3pm      2523\n",
            "Humidity9am       1425\n",
            "Humidity3pm          0\n",
            "Pressure9am       1191\n",
            "Pressure3pm        919\n",
            "Cloud9am             0\n",
            "Cloud3pm             0\n",
            "Temp9am            262\n",
            "Temp3pm            764\n",
            "dtype: int64\n"
          ]
        }
      ],
      "source": [
        "#2. Nilai pencilan dari setiap fitur\n",
        "numeric_data = rain_data[[\"MinTemp\",\"MaxTemp\",\"Rainfall\",\"Evaporation\",\"Sunshine\",\"WindGustSpeed\",\"WindSpeed9am\",\"WindSpeed3pm\",\"Humidity9am\",\"Humidity3pm\",\"Pressure9am\",\"Pressure3pm\",\"Cloud9am\",\"Cloud3pm\",\"Temp9am\", \"Temp3pm\"]]\n",
        "LowOutliner = 0\n",
        "HighOutliner = 0\n",
        "\n",
        "Q1 = numeric_data.quantile(0.25)\n",
        "Q3 = numeric_data.quantile(0.75)\n",
        "IQR = Q3 - Q1\n",
        "\n",
        "outliers = (numeric_data < (Q1 - 1.5 * IQR)) | (numeric_data > (Q3 + 1.5 * IQR))\n",
        "print(outliers.sum())"
      ]
    },
    {
      "cell_type": "markdown",
      "metadata": {
        "id": "8tUGStQ_wR4P"
      },
      "source": [
        "## I.3\n",
        "Lakukan:\n",
        "1. Pencarian korelasi antarfitur\n",
        "2. Visualisasi distribusi setiap fitur (kategorikal dan kontinu)\n",
        "3. Visualisasi distribusi setiap fitur per target (`RainTomorrow`)"
      ]
    },
    {
      "cell_type": "code",
      "execution_count": 15,
      "metadata": {
        "colab": {
          "base_uri": "https://localhost:8080/",
          "height": 850
        },
        "id": "XoBqyQA1wRNX",
        "outputId": "a9933ac4-9f57-4e25-bee3-3fdb62a386cd"
      },
      "outputs": [
        {
          "data": {
            "image/png": "[encoded data removed]",
            "text/plain": [
              "<Figure size 720x576 with 2 Axes>"
            ]
          },
          "metadata": {
            "needs_background": "light"
          },
          "output_type": "display_data"
        }
      ],
      "source": [
        "#1 Pencarian korelasi antarfitur\n",
        "corr = rain_data.corr()\n",
        "\n",
        "plt.figure(figsize=(10, 8))\n",
        "sns.heatmap(corr, cmap='coolwarm', annot=True)\n",
        "plt.title('Correlation Matrix')\n",
        "plt.show()"
      ]
    },
    {
      "cell_type": "code",
      "execution_count": 16,
      "metadata": {
        "colab": {
          "base_uri": "https://localhost:8080/",
          "height": 1000
        },
        "id": "DTvvdwdoORJ_",
        "outputId": "d1c986e8-2154-45bd-966d-4f0b0f97019b"
      },
      "outputs": [
        {
          "data": {
            "image/png": "[encoded data removed]",
            "text/plain": [
              "<Figure size 1440x2880 with 22 Axes>"
            ]
          },
          "metadata": {
            "needs_background": "light"
          },
          "output_type": "display_data"
        }
      ],
      "source": [
        "# 2. Visualisasi distribusi setiap fitur (kategorikal dan kontinu)\n",
        "columns = [\"Date\",\"Location\",\"MinTemp\",\"MaxTemp\",\"Rainfall\",\"Evaporation\",\"Sunshine\",\"WindGustDir\",\"WindGustSpeed\",\"WindDir9am\",\"WindDir3pm\",\"WindSpeed9am\",\"WindSpeed3pm\",\"Humidity9am\",\"Humidity3pm\",\"Pressure9am\",\"Pressure3pm\",\"Cloud9am\",\"Cloud3pm\",\"Temp9am\",\"Temp3pm\",\"RainToday\"]\n",
        "\n",
        "fig, axs = plt.subplots(11, 2, figsize=(20, 40))\n",
        "j = 0\n",
        "for i in range(len(columns)):\n",
        "    sns.histplot(rain_data, x=columns[i], ax=axs[(i % 10), j])\n",
        "    if (i%11) == 10:\n",
        "        j += 1  "
      ]
    },
    {
      "cell_type": "code",
      "execution_count": 17,
      "metadata": {
        "colab": {
          "base_uri": "https://localhost:8080/",
          "height": 1000
        },
        "id": "r7ao7YxpOSzu",
        "outputId": "c763547f-8066-43a3-d162-5d9cac7feeec"
      },
      "outputs": [
        {
          "data": {
            "image/png": "[encoded data removed]",
            "text/plain": [
              "<Figure size 1440x5760 with 44 Axes>"
            ]
          },
          "metadata": {
            "needs_background": "light"
          },
          "output_type": "display_data"
        }
      ],
      "source": [
        "# 3. Visualisasi distribusi setiap fitur per target (`RainTomorrow`)\n",
        "yes_data = rain_data[rain_data[\"RainTomorrow\"] == \"Yes\"]\n",
        "no_data = rain_data[rain_data[\"RainTomorrow\"] == \"No\"]\n",
        "\n",
        "fig, axs = plt.subplots(22, 2, figsize=(20, 80))\n",
        "\n",
        "for i in range(len(columns)):\n",
        "    sns.histplot(yes_data, x=(columns[i]), ax=axs[(i), 0])\n",
        "    sns.histplot(no_data, x=(columns[i]), ax=axs[(i), 1])"
      ]
    },
    {
      "cell_type": "markdown",
      "metadata": {
        "id": "kV3BDt235mdz"
      },
      "source": [
        "## I.4\n",
        "Lakukanlah analisis lebih lanjut jika diperlukan, kemudian lakukan hal berikut:\n",
        "1. Penambahan fitur jika memungkinkan\n",
        "2. Pembuangan fitur yang menurut kalian tidak dibutuhkan\n",
        "3. Penanganan nilai hilang\n",
        "4. Transformasi data kategorikal menjadi numerikal (_encoding_)\n",
        "5. _Scaling_ dengan `MinMaxScaler`"
      ]
    },
    {
      "cell_type": "markdown",
      "metadata": {
        "id": "j-I4Sr578F9k"
      },
      "source": [
        "1. Penambahan fitur jika memungkinkan\n",
        "#####Tidak ada"
      ]
    },
    {
      "cell_type": "markdown",
      "metadata": {
        "id": "4T3sjbc59AYr"
      },
      "source": [
        "2.Pembuangan fitur yang menurut kalian tidak dibutuhkan"
      ]
    },
    {
      "cell_type": "code",
      "execution_count": 18,
      "metadata": {
        "id": "jlTGspG_56re"
      },
      "outputs": [],
      "source": [
        "rain_data = rain_data.drop([\"Date\", \"Location\"], axis=1)"
      ]
    },
    {
      "cell_type": "markdown",
      "metadata": {
        "id": "mMwAKhuF9Vmi"
      },
      "source": [
        "3. Penanganan nilai hilang"
      ]
    },
    {
      "cell_type": "code",
      "execution_count": 19,
      "metadata": {
        "id": "uWUqD_8NBrC6"
      },
      "outputs": [],
      "source": [
        "#MinTemp \n",
        "median = rain_data.median(numeric_only=True)['MinTemp']\n",
        "rain_data['MinTemp'] = rain_data['MinTemp'].fillna(median)\n",
        "\n",
        "#MaxTemp\n",
        "median = rain_data.median(numeric_only=True)['MaxTemp']\n",
        "rain_data['MaxTemp'] = rain_data['MaxTemp'].fillna(median)\n",
        "\n",
        "#Rainfall\n",
        "median = rain_data.median(numeric_only=True)['Rainfall']\n",
        "rain_data['Rainfall'] = rain_data['Rainfall'].fillna(median)\n",
        "\n",
        "#Evaporation\n",
        "median = rain_data.median(numeric_only=True)['Evaporation']\n",
        "rain_data['Evaporation'] = rain_data['Evaporation'].fillna(median)\n",
        "\n",
        "#Sunshine\n",
        "median = rain_data.median(numeric_only=True)['Sunshine']\n",
        "rain_data['Sunshine'] = rain_data['Sunshine'].fillna(median)\n",
        "\n",
        "#WindGustSpeed\n",
        "median = rain_data.median(numeric_only=True)['WindGustSpeed']\n",
        "rain_data['WindGustSpeed'] = rain_data['WindGustSpeed'].fillna(median)\n",
        "\n",
        "#WindSpeed9am\n",
        "median = rain_data.median(numeric_only=True)['WindSpeed9am']\n",
        "rain_data['WindSpeed9am'] = rain_data['WindSpeed9am'].fillna(median)\n",
        "\n",
        "#WindSpeed3pm\n",
        "median = rain_data.median(numeric_only=True)['WindSpeed3pm']\n",
        "rain_data['WindSpeed3pm'] = rain_data['WindSpeed3pm'].fillna(median)\n",
        "\n",
        "#Humidity9am\n",
        "median = rain_data.median(numeric_only=True)['Humidity9am']\n",
        "rain_data['Humidity9am'] = rain_data['Humidity9am'].fillna(median)\n",
        "\n",
        "##Humidity3pm\n",
        "median = rain_data.median(numeric_only=True)['Humidity3pm']\n",
        "rain_data['Humidity3pm'] = rain_data['Humidity3pm'].fillna(median)\n",
        "\n",
        "#Pressure9am\n",
        "median = rain_data.median(numeric_only=True)['Pressure9am']\n",
        "rain_data['Pressure9am'] = rain_data['Pressure9am'].fillna(median)\n",
        "\n",
        "#Pressure3pm\n",
        "median = rain_data.median(numeric_only=True)['Pressure3pm']\n",
        "rain_data['Pressure3pm'] = rain_data['Pressure3pm'].fillna(median)\n",
        "\n",
        "#Cloud9am\n",
        "median = rain_data.median(numeric_only=True)['Cloud9am']\n",
        "rain_data['Cloud9am'] = rain_data['Cloud9am'].fillna(median)\n",
        "\n",
        "#Cloud3pm\n",
        "median = rain_data.median(numeric_only=True)['Cloud3pm']\n",
        "rain_data['Cloud3pm'] = rain_data['Cloud3pm'].fillna(median)\n",
        "\n",
        "#Temp9am\n",
        "median = rain_data.median(numeric_only=True)['Temp9am']\n",
        "rain_data['Temp9am'] = rain_data['Temp9am'].fillna(median)\n",
        "\n",
        "#Temp3pm\n",
        "median = rain_data.median(numeric_only=True)['Temp3pm']\n",
        "rain_data['Temp3pm'] = rain_data['Temp3pm'].fillna(median)\n",
        "\n",
        "#WindGustDir \n",
        "modus = rain_data.mode()['WindGustDir'][0]\n",
        "rain_data['WindGustDir'] = rain_data['WindGustDir'].fillna(modus)\n",
        "\n",
        "# WindDir9am\n",
        "modus = rain_data.mode()['WindDir9am'][0]\n",
        "rain_data['WindDir9am'] = rain_data['WindDir9am'].fillna(modus)\n",
        "\n",
        "# WindDir3pm\n",
        "modus = rain_data.mode()['WindDir3pm'][0]\n",
        "rain_data['WindDir3pm'] = rain_data['WindDir3pm'].fillna(modus)\n",
        "\n",
        "# RainToday\n",
        "modus = rain_data.mode()['RainToday'][0]\n",
        "rain_data['RainToday'] = rain_data['RainToday'].fillna(modus)\n",
        "\n",
        "# RainTomorrow\n",
        "modus = rain_data.mode()['RainTomorrow'][0]\n",
        "rain_data['RainTomorrow'] = rain_data['RainTomorrow'].fillna(modus)"
      ]
    },
    {
      "cell_type": "markdown",
      "metadata": {
        "id": "J1AinWcdDXU-"
      },
      "source": [
        "4. Transformasi data kategorikal menjadi numerikal (encoding)"
      ]
    },
    {
      "cell_type": "code",
      "execution_count": 20,
      "metadata": {
        "id": "4kAlPbtiDY48"
      },
      "outputs": [],
      "source": [
        "from sklearn.preprocessing import LabelEncoder\n",
        "# inisiasi objek LabelEncoder\n",
        "le = LabelEncoder()\n",
        "\n",
        "#WindGustDir \n",
        "rain_data['WindGustDir'] = le.fit_transform(rain_data['WindGustDir'])\n",
        "\n",
        "#WindDir9am\n",
        "rain_data['WindDir9am'] = le.fit_transform(rain_data['WindDir9am'])\n",
        "\n",
        "#WindDir3pm\n",
        "rain_data['WindDir3pm'] = le.fit_transform(rain_data['WindDir3pm'])\n",
        "\n",
        "#RainToday\n",
        "rain_data['RainToday'] = le.fit_transform(rain_data['RainToday'])\n",
        "\n",
        "#RainTomorrow\n",
        "rain_data['RainTomorrow'] = le.fit_transform(rain_data['RainTomorrow'])"
      ]
    },
    {
      "cell_type": "markdown",
      "metadata": {
        "id": "HPmRH2vSHR3k"
      },
      "source": [
        "5.Scaling dengan MinMaxScaler"
      ]
    },
    {
      "cell_type": "code",
      "execution_count": 21,
      "metadata": {
        "colab": {
          "base_uri": "https://localhost:8080/",
          "height": 488
        },
        "id": "9-UzOP8QHTSR",
        "outputId": "ae11bf09-bd30-4d96-bb09-f22710dc7c8c"
      },
      "outputs": [
        {
          "data": {
            "text/html": [
              "<div>\n",
              "<style scoped>\n",
              "    .dataframe tbody tr th:only-of-type {\n",
              "        vertical-align: middle;\n",
              "    }\n",
              "\n",
              "    .dataframe tbody tr th {\n",
              "        vertical-align: top;\n",
              "    }\n",
              "\n",
              "    .dataframe thead th {\n",
              "        text-align: right;\n",
              "    }\n",
              "</style>\n",
              "<table border=\"1\" class=\"dataframe\">\n",
              "  <thead>\n",
              "    <tr style=\"text-align: right;\">\n",
              "      <th></th>\n",
              "      <th>MinTemp</th>\n",
              "      <th>MaxTemp</th>\n",
              "      <th>Rainfall</th>\n",
              "      <th>Evaporation</th>\n",
              "      <th>Sunshine</th>\n",
              "      <th>WindGustDir</th>\n",
              "      <th>WindGustSpeed</th>\n",
              "      <th>WindDir9am</th>\n",
              "      <th>WindDir3pm</th>\n",
              "      <th>WindSpeed9am</th>\n",
              "      <th>...</th>\n",
              "      <th>Humidity9am</th>\n",
              "      <th>Humidity3pm</th>\n",
              "      <th>Pressure9am</th>\n",
              "      <th>Pressure3pm</th>\n",
              "      <th>Cloud9am</th>\n",
              "      <th>Cloud3pm</th>\n",
              "      <th>Temp9am</th>\n",
              "      <th>Temp3pm</th>\n",
              "      <th>RainToday</th>\n",
              "      <th>RainTomorrow</th>\n",
              "    </tr>\n",
              "  </thead>\n",
              "  <tbody>\n",
              "    <tr>\n",
              "      <th>0</th>\n",
              "      <td>0.516509</td>\n",
              "      <td>0.523629</td>\n",
              "      <td>0.001617</td>\n",
              "      <td>0.033103</td>\n",
              "      <td>0.57931</td>\n",
              "      <td>0.866667</td>\n",
              "      <td>0.294574</td>\n",
              "      <td>0.866667</td>\n",
              "      <td>0.933333</td>\n",
              "      <td>0.153846</td>\n",
              "      <td>...</td>\n",
              "      <td>0.71</td>\n",
              "      <td>0.22</td>\n",
              "      <td>0.449587</td>\n",
              "      <td>0.4800</td>\n",
              "      <td>0.888889</td>\n",
              "      <td>0.555556</td>\n",
              "      <td>0.508439</td>\n",
              "      <td>0.522073</td>\n",
              "      <td>0.0</td>\n",
              "      <td>0.0</td>\n",
              "    </tr>\n",
              "    <tr>\n",
              "      <th>1</th>\n",
              "      <td>0.375000</td>\n",
              "      <td>0.565217</td>\n",
              "      <td>0.000000</td>\n",
              "      <td>0.033103</td>\n",
              "      <td>0.57931</td>\n",
              "      <td>0.933333</td>\n",
              "      <td>0.294574</td>\n",
              "      <td>0.400000</td>\n",
              "      <td>1.000000</td>\n",
              "      <td>0.030769</td>\n",
              "      <td>...</td>\n",
              "      <td>0.44</td>\n",
              "      <td>0.25</td>\n",
              "      <td>0.497521</td>\n",
              "      <td>0.4912</td>\n",
              "      <td>0.555556</td>\n",
              "      <td>0.555556</td>\n",
              "      <td>0.514768</td>\n",
              "      <td>0.570058</td>\n",
              "      <td>0.0</td>\n",
              "      <td>0.0</td>\n",
              "    </tr>\n",
              "    <tr>\n",
              "      <th>2</th>\n",
              "      <td>0.504717</td>\n",
              "      <td>0.576560</td>\n",
              "      <td>0.000000</td>\n",
              "      <td>0.033103</td>\n",
              "      <td>0.57931</td>\n",
              "      <td>1.000000</td>\n",
              "      <td>0.310078</td>\n",
              "      <td>0.866667</td>\n",
              "      <td>1.000000</td>\n",
              "      <td>0.146154</td>\n",
              "      <td>...</td>\n",
              "      <td>0.38</td>\n",
              "      <td>0.30</td>\n",
              "      <td>0.447934</td>\n",
              "      <td>0.5056</td>\n",
              "      <td>0.555556</td>\n",
              "      <td>0.222222</td>\n",
              "      <td>0.594937</td>\n",
              "      <td>0.548944</td>\n",
              "      <td>0.0</td>\n",
              "      <td>0.0</td>\n",
              "    </tr>\n",
              "    <tr>\n",
              "      <th>3</th>\n",
              "      <td>0.417453</td>\n",
              "      <td>0.620038</td>\n",
              "      <td>0.000000</td>\n",
              "      <td>0.033103</td>\n",
              "      <td>0.57931</td>\n",
              "      <td>0.266667</td>\n",
              "      <td>0.139535</td>\n",
              "      <td>0.600000</td>\n",
              "      <td>0.000000</td>\n",
              "      <td>0.084615</td>\n",
              "      <td>...</td>\n",
              "      <td>0.45</td>\n",
              "      <td>0.16</td>\n",
              "      <td>0.613223</td>\n",
              "      <td>0.5712</td>\n",
              "      <td>0.555556</td>\n",
              "      <td>0.555556</td>\n",
              "      <td>0.533755</td>\n",
              "      <td>0.612284</td>\n",
              "      <td>0.0</td>\n",
              "      <td>0.0</td>\n",
              "    </tr>\n",
              "    <tr>\n",
              "      <th>4</th>\n",
              "      <td>0.613208</td>\n",
              "      <td>0.701323</td>\n",
              "      <td>0.002695</td>\n",
              "      <td>0.033103</td>\n",
              "      <td>0.57931</td>\n",
              "      <td>0.866667</td>\n",
              "      <td>0.271318</td>\n",
              "      <td>0.066667</td>\n",
              "      <td>0.466667</td>\n",
              "      <td>0.053846</td>\n",
              "      <td>...</td>\n",
              "      <td>0.82</td>\n",
              "      <td>0.33</td>\n",
              "      <td>0.500826</td>\n",
              "      <td>0.4624</td>\n",
              "      <td>0.777778</td>\n",
              "      <td>0.888889</td>\n",
              "      <td>0.527426</td>\n",
              "      <td>0.673704</td>\n",
              "      <td>0.0</td>\n",
              "      <td>0.0</td>\n",
              "    </tr>\n",
              "    <tr>\n",
              "      <th>...</th>\n",
              "      <td>...</td>\n",
              "      <td>...</td>\n",
              "      <td>...</td>\n",
              "      <td>...</td>\n",
              "      <td>...</td>\n",
              "      <td>...</td>\n",
              "      <td>...</td>\n",
              "      <td>...</td>\n",
              "      <td>...</td>\n",
              "      <td>...</td>\n",
              "      <td>...</td>\n",
              "      <td>...</td>\n",
              "      <td>...</td>\n",
              "      <td>...</td>\n",
              "      <td>...</td>\n",
              "      <td>...</td>\n",
              "      <td>...</td>\n",
              "      <td>...</td>\n",
              "      <td>...</td>\n",
              "      <td>...</td>\n",
              "      <td>...</td>\n",
              "    </tr>\n",
              "    <tr>\n",
              "      <th>145455</th>\n",
              "      <td>0.266509</td>\n",
              "      <td>0.533081</td>\n",
              "      <td>0.000000</td>\n",
              "      <td>0.033103</td>\n",
              "      <td>0.57931</td>\n",
              "      <td>0.000000</td>\n",
              "      <td>0.193798</td>\n",
              "      <td>0.600000</td>\n",
              "      <td>0.066667</td>\n",
              "      <td>0.100000</td>\n",
              "      <td>...</td>\n",
              "      <td>0.51</td>\n",
              "      <td>0.24</td>\n",
              "      <td>0.728926</td>\n",
              "      <td>0.6912</td>\n",
              "      <td>0.555556</td>\n",
              "      <td>0.555556</td>\n",
              "      <td>0.364979</td>\n",
              "      <td>0.533589</td>\n",
              "      <td>0.0</td>\n",
              "      <td>0.0</td>\n",
              "    </tr>\n",
              "    <tr>\n",
              "      <th>145456</th>\n",
              "      <td>0.285377</td>\n",
              "      <td>0.568998</td>\n",
              "      <td>0.000000</td>\n",
              "      <td>0.033103</td>\n",
              "      <td>0.57931</td>\n",
              "      <td>0.400000</td>\n",
              "      <td>0.124031</td>\n",
              "      <td>0.600000</td>\n",
              "      <td>0.200000</td>\n",
              "      <td>0.100000</td>\n",
              "      <td>...</td>\n",
              "      <td>0.56</td>\n",
              "      <td>0.21</td>\n",
              "      <td>0.710744</td>\n",
              "      <td>0.6720</td>\n",
              "      <td>0.555556</td>\n",
              "      <td>0.555556</td>\n",
              "      <td>0.381857</td>\n",
              "      <td>0.573896</td>\n",
              "      <td>0.0</td>\n",
              "      <td>0.0</td>\n",
              "    </tr>\n",
              "    <tr>\n",
              "      <th>145457</th>\n",
              "      <td>0.327830</td>\n",
              "      <td>0.599244</td>\n",
              "      <td>0.000000</td>\n",
              "      <td>0.033103</td>\n",
              "      <td>0.57931</td>\n",
              "      <td>0.200000</td>\n",
              "      <td>0.240310</td>\n",
              "      <td>0.600000</td>\n",
              "      <td>0.933333</td>\n",
              "      <td>0.069231</td>\n",
              "      <td>...</td>\n",
              "      <td>0.53</td>\n",
              "      <td>0.24</td>\n",
              "      <td>0.669421</td>\n",
              "      <td>0.6352</td>\n",
              "      <td>0.555556</td>\n",
              "      <td>0.555556</td>\n",
              "      <td>0.415612</td>\n",
              "      <td>0.604607</td>\n",
              "      <td>0.0</td>\n",
              "      <td>0.0</td>\n",
              "    </tr>\n",
              "    <tr>\n",
              "      <th>145458</th>\n",
              "      <td>0.384434</td>\n",
              "      <td>0.601134</td>\n",
              "      <td>0.000000</td>\n",
              "      <td>0.033103</td>\n",
              "      <td>0.57931</td>\n",
              "      <td>0.600000</td>\n",
              "      <td>0.170543</td>\n",
              "      <td>0.666667</td>\n",
              "      <td>0.200000</td>\n",
              "      <td>0.100000</td>\n",
              "      <td>...</td>\n",
              "      <td>0.51</td>\n",
              "      <td>0.24</td>\n",
              "      <td>0.642975</td>\n",
              "      <td>0.6304</td>\n",
              "      <td>0.333333</td>\n",
              "      <td>0.222222</td>\n",
              "      <td>0.470464</td>\n",
              "      <td>0.602687</td>\n",
              "      <td>0.0</td>\n",
              "      <td>0.0</td>\n",
              "    </tr>\n",
              "    <tr>\n",
              "      <th>145459</th>\n",
              "      <td>0.551887</td>\n",
              "      <td>0.517958</td>\n",
              "      <td>0.000000</td>\n",
              "      <td>0.033103</td>\n",
              "      <td>0.57931</td>\n",
              "      <td>0.866667</td>\n",
              "      <td>0.255814</td>\n",
              "      <td>0.133333</td>\n",
              "      <td>0.133333</td>\n",
              "      <td>0.130769</td>\n",
              "      <td>...</td>\n",
              "      <td>0.62</td>\n",
              "      <td>0.36</td>\n",
              "      <td>0.656198</td>\n",
              "      <td>0.6528</td>\n",
              "      <td>0.888889</td>\n",
              "      <td>0.888889</td>\n",
              "      <td>0.468354</td>\n",
              "      <td>0.504798</td>\n",
              "      <td>0.0</td>\n",
              "      <td>0.0</td>\n",
              "    </tr>\n",
              "  </tbody>\n",
              "</table>\n",
              "<p>145460 rows × 21 columns</p>\n",
              "</div>"
            ],
            "text/plain": [
              "         MinTemp   MaxTemp  Rainfall  Evaporation  Sunshine  WindGustDir  \\\n",
              "0       0.516509  0.523629  0.001617     0.033103   0.57931     0.866667   \n",
              "1       0.375000  0.565217  0.000000     0.033103   0.57931     0.933333   \n",
              "2       0.504717  0.576560  0.000000     0.033103   0.57931     1.000000   \n",
              "3       0.417453  0.620038  0.000000     0.033103   0.57931     0.266667   \n",
              "4       0.613208  0.701323  0.002695     0.033103   0.57931     0.866667   \n",
              "...          ...       ...       ...          ...       ...          ...   \n",
              "145455  0.266509  0.533081  0.000000     0.033103   0.57931     0.000000   \n",
              "145456  0.285377  0.568998  0.000000     0.033103   0.57931     0.400000   \n",
              "145457  0.327830  0.599244  0.000000     0.033103   0.57931     0.200000   \n",
              "145458  0.384434  0.601134  0.000000     0.033103   0.57931     0.600000   \n",
              "145459  0.551887  0.517958  0.000000     0.033103   0.57931     0.866667   \n",
              "\n",
              "        WindGustSpeed  WindDir9am  WindDir3pm  WindSpeed9am  ...  Humidity9am  \\\n",
              "0            0.294574    0.866667    0.933333      0.153846  ...         0.71   \n",
              "1            0.294574    0.400000    1.000000      0.030769  ...         0.44   \n",
              "2            0.310078    0.866667    1.000000      0.146154  ...         0.38   \n",
              "3            0.139535    0.600000    0.000000      0.084615  ...         0.45   \n",
              "4            0.271318    0.066667    0.466667      0.053846  ...         0.82   \n",
              "...               ...         ...         ...           ...  ...          ...   \n",
              "145455       0.193798    0.600000    0.066667      0.100000  ...         0.51   \n",
              "145456       0.124031    0.600000    0.200000      0.100000  ...         0.56   \n",
              "145457       0.240310    0.600000    0.933333      0.069231  ...         0.53   \n",
              "145458       0.170543    0.666667    0.200000      0.100000  ...         0.51   \n",
              "145459       0.255814    0.133333    0.133333      0.130769  ...         0.62   \n",
              "\n",
              "        Humidity3pm  Pressure9am  Pressure3pm  Cloud9am  Cloud3pm   Temp9am  \\\n",
              "0              0.22     0.449587       0.4800  0.888889  0.555556  0.508439   \n",
              "1              0.25     0.497521       0.4912  0.555556  0.555556  0.514768   \n",
              "2              0.30     0.447934       0.5056  0.555556  0.222222  0.594937   \n",
              "3              0.16     0.613223       0.5712  0.555556  0.555556  0.533755   \n",
              "4              0.33     0.500826       0.4624  0.777778  0.888889  0.527426   \n",
              "...             ...          ...          ...       ...       ...       ...   \n",
              "145455         0.24     0.728926       0.6912  0.555556  0.555556  0.364979   \n",
              "145456         0.21     0.710744       0.6720  0.555556  0.555556  0.381857   \n",
              "145457         0.24     0.669421       0.6352  0.555556  0.555556  0.415612   \n",
              "145458         0.24     0.642975       0.6304  0.333333  0.222222  0.470464   \n",
              "145459         0.36     0.656198       0.6528  0.888889  0.888889  0.468354   \n",
              "\n",
              "         Temp3pm  RainToday  RainTomorrow  \n",
              "0       0.522073        0.0           0.0  \n",
              "1       0.570058        0.0           0.0  \n",
              "2       0.548944        0.0           0.0  \n",
              "3       0.612284        0.0           0.0  \n",
              "4       0.673704        0.0           0.0  \n",
              "...          ...        ...           ...  \n",
              "145455  0.533589        0.0           0.0  \n",
              "145456  0.573896        0.0           0.0  \n",
              "145457  0.604607        0.0           0.0  \n",
              "145458  0.602687        0.0           0.0  \n",
              "145459  0.504798        0.0           0.0  \n",
              "\n",
              "[145460 rows x 21 columns]"
            ]
          },
          "execution_count": 21,
          "metadata": {},
          "output_type": "execute_result"
        }
      ],
      "source": [
        "from sklearn.preprocessing import MinMaxScaler\n",
        "scale = MinMaxScaler()\n",
        "rain_data = pd.DataFrame(scale.fit_transform(rain_data), columns=rain_data.columns)\n",
        "\n",
        "rain_data"
      ]
    },
    {
      "cell_type": "markdown",
      "metadata": {
        "id": "mt2zHZRauLIm"
      },
      "source": [
        "# II. Desain Eksperimen\n",
        "Tujuan dari bagian ini adalah peserta dapat memahami cara melakukan eksperimen mencari metode terbaik dengan benar. Hal yang diliputi adalah sebagai berikut:\n",
        "1. Pembuatan model\n",
        "2. Proses validasi\n",
        "3. _Hyperparameter tuning_"
      ]
    },
    {
      "cell_type": "markdown",
      "metadata": {
        "id": "Kf4xsl8RydIt"
      },
      "source": [
        "## II.1\n",
        "Tentukanlah metrik yang akan digunakan pada eksperimen kali ini. Metrik yang dapat lebih dari satu jenis."
      ]
    },
    {
      "cell_type": "markdown",
      "metadata": {
        "id": "S2I0axfj4OuC"
      },
      "source": [
        "Accuracy, F1, Precision, Recall"
      ]
    },
    {
      "cell_type": "markdown",
      "metadata": {
        "id": "FONT0OyUyoQG"
      },
      "source": [
        "## II.2 \n",
        "Bagi data dengan perbandingan 0,8 untuk data latih dan 0,2 untuk data validasi."
      ]
    },
    {
      "cell_type": "code",
      "execution_count": 22,
      "metadata": {
        "id": "Gqa9nn5muMS2"
      },
      "outputs": [],
      "source": [
        "from sklearn.model_selection import train_test_split\n",
        "from sklearn.preprocessing import OneHotEncoder\n",
        "\n",
        "clasification = rain_data['RainTomorrow']\n",
        "rain_data = rain_data.drop([\"RainTomorrow\"], axis=1)\n",
        "\n",
        "X_train, X_test, y_train, y_test = train_test_split( rain_data,clasification, test_size=0.2, random_state=42)\n"
      ]
    },
    {
      "cell_type": "markdown",
      "metadata": {
        "id": "V4yS8O3tyyyh"
      },
      "source": [
        "## II.3\n",
        "Lakukan hal berikut:\n",
        "1. Prediksi dengan menggunakan model _logistic regression_ sebagai _baseline_.\n",
        "2. Tampilkan evaluasi dari model yang dibangun dari metrik yang ditentukan pada II.1\n",
        "3. Tampilkan _confusion matrix_."
      ]
    },
    {
      "cell_type": "code",
      "execution_count": 23,
      "metadata": {
        "colab": {
          "base_uri": "https://localhost:8080/"
        },
        "id": "EpEqAz94yyQo",
        "outputId": "166967fd-7b3f-451e-f0b0-26e2b3ca87b3"
      },
      "outputs": [
        {
          "name": "stdout",
          "output_type": "stream",
          "text": [
            "Accuracy: 0.8423621614189468\n",
            "Precision: 0.7175047438330171\n",
            "Recall: 0.471183800623053\n",
            "F1: 0.5688228657389997\n"
          ]
        },
        {
          "data": {
            "text/plain": [
              "array([[21481,  1191],\n",
              "       [ 3395,  3025]], dtype=int64)"
            ]
          },
          "execution_count": 23,
          "metadata": {},
          "output_type": "execute_result"
        }
      ],
      "source": [
        "from sklearn.linear_model import LogisticRegression\n",
        "from sklearn.metrics import accuracy_score, precision_score, recall_score, f1_score, confusion_matrix\n",
        "\n",
        "model = LogisticRegression(max_iter=1000)\n",
        "model.fit(X_train, y_train)\n",
        "\n",
        "y_pred = model.predict(X_test)\n",
        "\n",
        "# Evaluate the model using accuracy score\n",
        "accuracy = accuracy_score(y_test, y_pred)\n",
        "print('Accuracy:', accuracy)\n",
        "\n",
        "precision = precision_score(y_test, y_pred)\n",
        "print('Precision:', precision)\n",
        "\n",
        "recall = recall_score(y_test, y_pred)\n",
        "print('Recall:', recall)\n",
        "\n",
        "f1 = f1_score(y_test, y_pred)\n",
        "print('F1:', f1)\n",
        "\n",
        "# Print the confusion matrix\n",
        "cm = confusion_matrix(y_test, y_pred)\n",
        "cm"
      ]
    },
    {
      "cell_type": "markdown",
      "metadata": {
        "id": "aFB2AlZfzU54"
      },
      "source": [
        "## II.4 \n",
        "Lakukanlah:\n",
        "1. Pembelajaran dengan model lain\n",
        "2. _Hyperparameter tuning_ untuk model yang dipakai dengan menggunakan _grid search_ (perhatikan _random factor_ pada beberapa algoritma model)\n",
        "3. Validasi dengan _cross validation_\n"
      ]
    },
    {
      "cell_type": "code",
      "execution_count": null,
      "metadata": {
        "id": "df0YVJ7dzUSc"
      },
      "outputs": [],
      "source": []
    },
    {
      "cell_type": "markdown",
      "metadata": {
        "id": "5ePIGuRZuNZb"
      },
      "source": [
        "# III. Improvement\n",
        "Pada bagian ini, kalian diharapkan dapat:\n",
        "1. melakukan pelatihan dengan data hasil _oversampling_ / _undersampling_, disertai dengan validasi yang benar; serta\n",
        "2. menerapkan beberapa metode untuk menggabungkan beberapa model.\n",
        "\n",
        "Kedua hal ini adalah contoh metode untuk meningkatkan kinerja dari model."
      ]
    },
    {
      "cell_type": "markdown",
      "metadata": {
        "id": "NGgjXVqf1vhN"
      },
      "source": [
        "## III.1\n",
        "Lakukanlah:\n",
        "1. _Oversampling_ pada kelas minoritas pada data latih\n",
        "2. _Undersampling_ pada kelas mayoritas pada data latih\n",
        "\n",
        "Pada setiap tahap, latih dengan model *baseline* (II.3), dan validasi dengan data validasi. Data latih dan validasi adalah data yang disusun pada bagian II.2."
      ]
    },
    {
      "cell_type": "code",
      "execution_count": 24,
      "metadata": {
        "id": "bLLLsyoF2GIM"
      },
      "outputs": [],
      "source": [
        "#1. _Oversampling_ pada kelas minoritas pada data latih\n",
        "categorical_features =  categorical_features = [5, 7, 8, 19]\n",
        "\n",
        "smote_nc = SMOTENC(categorical_features=categorical_features)\n",
        "\n",
        "\n",
        "X_over, y_over = smote_nc.fit_resample(X_train, y_train)\n",
        "\n",
        "model.fit(X_over, y_over)\n",
        "y_pred = model.predict(X_test)"
      ]
    },
    {
      "cell_type": "code",
      "execution_count": 25,
      "metadata": {},
      "outputs": [
        {
          "name": "stdout",
          "output_type": "stream",
          "text": [
            "0.7855767908703424\n",
            "              precision    recall  f1-score   support\n",
            "\n",
            "         0.0       0.92      0.79      0.85     22672\n",
            "         1.0       0.51      0.76      0.61      6420\n",
            "\n",
            "    accuracy                           0.79     29092\n",
            "   macro avg       0.72      0.78      0.73     29092\n",
            "weighted avg       0.83      0.79      0.80     29092\n",
            "\n"
          ]
        }
      ],
      "source": [
        "print(accuracy_score(y_test, y_pred))\n",
        "print(classification_report(y_test, y_pred))"
      ]
    },
    {
      "cell_type": "code",
      "execution_count": 26,
      "metadata": {},
      "outputs": [],
      "source": [
        "#2. _Undersampling_ pada kelas mayoritas pada data latih\n",
        "\n",
        "undersample = RandomUnderSampler(sampling_strategy=\"majority\",random_state=0)\n",
        "\n",
        "X_over, y_over = undersample.fit_resample(X_train, y_train)\n",
        "\n",
        "model.fit(X_over, y_over)\n",
        "y_pred = model.predict(X_test)"
      ]
    },
    {
      "cell_type": "code",
      "execution_count": 27,
      "metadata": {},
      "outputs": [
        {
          "name": "stdout",
          "output_type": "stream",
          "text": [
            "0.7858861542692149\n",
            "              precision    recall  f1-score   support\n",
            "\n",
            "         0.0       0.92      0.79      0.85     22672\n",
            "         1.0       0.51      0.76      0.61      6420\n",
            "\n",
            "    accuracy                           0.79     29092\n",
            "   macro avg       0.72      0.78      0.73     29092\n",
            "weighted avg       0.83      0.79      0.80     29092\n",
            "\n"
          ]
        }
      ],
      "source": [
        "print(accuracy_score(y_test, y_pred))\n",
        "print(classification_report(y_test, y_pred))"
      ]
    },
    {
      "cell_type": "markdown",
      "metadata": {
        "id": "FtbGHN3P2Fxe"
      },
      "source": [
        "## III.2\n",
        "Lakukanlah:\n",
        "1. Eksplorasi _soft voting_, _hard voting_, dan _stacking_.\n",
        "2. Buatlah model _logistic regression_ dan SVM.\n",
        "3. Lakukanlah _soft voting_ dari model-model yang dibangun pada poin 2.\n",
        "4. Lakukan _hard voting_ dari model-model yang dibangun pada poin 2.\n",
        "5. Lakukanlah _stacking_ dengan _final classifier_ adalah _logistic regression_ dari model-model yang dibangun pada poin 2.\n",
        "6. Lakukan validasi dengan metrics yang telah ditentukan untuk poin 3, 4, dan 5."
      ]
    },
    {
      "attachments": {},
      "cell_type": "markdown",
      "metadata": {
        "id": "NfGqy72SAZ-t"
      },
      "source": [
        "1 Eksplorasi _soft voting_, _hard voting_, dan _stacking_.\n",
        "\n",
        "Ketiga teknik tersebut digunakan untuk menggabungkan beberapa model dengan harapan untuk meningkatkan akurasi serta metrik lainnya yang digunakan untuk menilai prediksi.\n",
        "\n",
        "Soft Voting adalah teknik dimana tiap model diambil prediksi-nya setelah memfaktorkan Weight(distribusi probabilitas) dari model tersebut, prediksi tersebut lalu digunakan untuk melakukan voting prediksi.\n",
        "Hard Voting adalah teknik dimana tiap model diambil prediksi-nya tanpa memfaktorkan Weight(weight seluruh model sama), prediksi tersebut lalu digunakan untuk melakukan voting prediksi.\n",
        "Stacking adalah teknik kompleks dimana dibuat sebuah meta-model tambahan yang digunakan untuk menkombinasi prediksi dari model-model awal. Model-model awal ditrain menggunakan data original, dan meta-model ditrain menggunakan model-model awal."
      ]
    },
    {
      "cell_type": "code",
      "execution_count": 38,
      "metadata": {},
      "outputs": [],
      "source": [
        "# 2. Buatlah model _logistic regression_ dan SVM.\n",
        "logR = LogisticRegression(max_iter=1500)\n",
        "clf = svm.SVC(kernel='linear',probability=True,max_iter=1500)"
      ]
    },
    {
      "cell_type": "code",
      "execution_count": 39,
      "metadata": {},
      "outputs": [
        {
          "name": "stderr",
          "output_type": "stream",
          "text": [
            "C:\\Users\\Furniture\\AppData\\Local\\Packages\\PythonSoftwareFoundation.Python.3.9_qbz5n2kfra8p0\\LocalCache\\local-packages\\Python39\\site-packages\\sklearn\\svm\\_base.py:284: ConvergenceWarning: Solver terminated early (max_iter=1500).  Consider pre-processing your data with StandardScaler or MinMaxScaler.\n",
            "  warnings.warn(\n"
          ]
        },
        {
          "data": {
            "text/plain": [
              "VotingClassifier(estimators=[('lr', LogisticRegression(max_iter=1500)),\n",
              "                             ('svm',\n",
              "                              SVC(kernel='linear', max_iter=1500,\n",
              "                                  probability=True))],\n",
              "                 voting='soft')"
            ]
          },
          "execution_count": 39,
          "metadata": {},
          "output_type": "execute_result"
        }
      ],
      "source": [
        " #3. Lakukanlah _soft voting_ dari model-model yang dibangun pada poin 2.\\n\",\n",
        "softvoting = VotingClassifier(estimators=[('lr', logR), ('svm', clf)], voting='soft')\n",
        "softvoting.fit(X_train, y_train)"
      ]
    },
    {
      "cell_type": "code",
      "execution_count": 30,
      "metadata": {},
      "outputs": [
        {
          "name": "stderr",
          "output_type": "stream",
          "text": [
            "C:\\Users\\Furniture\\AppData\\Local\\Packages\\PythonSoftwareFoundation.Python.3.9_qbz5n2kfra8p0\\LocalCache\\local-packages\\Python39\\site-packages\\sklearn\\svm\\_base.py:284: ConvergenceWarning: Solver terminated early (max_iter=500).  Consider pre-processing your data with StandardScaler or MinMaxScaler.\n",
            "  warnings.warn(\n"
          ]
        },
        {
          "data": {
            "text/plain": [
              "VotingClassifier(estimators=[('lr', LogisticRegression(max_iter=500)),\n",
              "                             ('svm',\n",
              "                              SVC(kernel='linear', max_iter=500,\n",
              "                                  probability=True))])"
            ]
          },
          "execution_count": 30,
          "metadata": {},
          "output_type": "execute_result"
        }
      ],
      "source": [
        "# 4. Lakukan _hard voting_ dari model-model yang dibangun pada poin 2.\\n\",\n",
        "hardvoting = VotingClassifier(estimators=[('lr', logR), ('svm', clf)], voting='hard')\n",
        "hardvoting.fit(X_train, y_train)"
      ]
    },
    {
      "cell_type": "code",
      "execution_count": 31,
      "metadata": {},
      "outputs": [
        {
          "name": "stderr",
          "output_type": "stream",
          "text": [
            "C:\\Users\\Furniture\\AppData\\Local\\Packages\\PythonSoftwareFoundation.Python.3.9_qbz5n2kfra8p0\\LocalCache\\local-packages\\Python39\\site-packages\\sklearn\\svm\\_base.py:284: ConvergenceWarning: Solver terminated early (max_iter=500).  Consider pre-processing your data with StandardScaler or MinMaxScaler.\n",
            "  warnings.warn(\n",
            "C:\\Users\\Furniture\\AppData\\Local\\Packages\\PythonSoftwareFoundation.Python.3.9_qbz5n2kfra8p0\\LocalCache\\local-packages\\Python39\\site-packages\\sklearn\\svm\\_base.py:284: ConvergenceWarning: Solver terminated early (max_iter=500).  Consider pre-processing your data with StandardScaler or MinMaxScaler.\n",
            "  warnings.warn(\n",
            "C:\\Users\\Furniture\\AppData\\Local\\Packages\\PythonSoftwareFoundation.Python.3.9_qbz5n2kfra8p0\\LocalCache\\local-packages\\Python39\\site-packages\\sklearn\\svm\\_base.py:284: ConvergenceWarning: Solver terminated early (max_iter=500).  Consider pre-processing your data with StandardScaler or MinMaxScaler.\n",
            "  warnings.warn(\n",
            "C:\\Users\\Furniture\\AppData\\Local\\Packages\\PythonSoftwareFoundation.Python.3.9_qbz5n2kfra8p0\\LocalCache\\local-packages\\Python39\\site-packages\\sklearn\\svm\\_base.py:284: ConvergenceWarning: Solver terminated early (max_iter=500).  Consider pre-processing your data with StandardScaler or MinMaxScaler.\n",
            "  warnings.warn(\n",
            "C:\\Users\\Furniture\\AppData\\Local\\Packages\\PythonSoftwareFoundation.Python.3.9_qbz5n2kfra8p0\\LocalCache\\local-packages\\Python39\\site-packages\\sklearn\\svm\\_base.py:284: ConvergenceWarning: Solver terminated early (max_iter=500).  Consider pre-processing your data with StandardScaler or MinMaxScaler.\n",
            "  warnings.warn(\n",
            "C:\\Users\\Furniture\\AppData\\Local\\Packages\\PythonSoftwareFoundation.Python.3.9_qbz5n2kfra8p0\\LocalCache\\local-packages\\Python39\\site-packages\\sklearn\\svm\\_base.py:284: ConvergenceWarning: Solver terminated early (max_iter=500).  Consider pre-processing your data with StandardScaler or MinMaxScaler.\n",
            "  warnings.warn(\n"
          ]
        },
        {
          "data": {
            "text/plain": [
              "StackingClassifier(estimators=[('lr', LogisticRegression(max_iter=500)),\n",
              "                               ('svm',\n",
              "                                SVC(kernel='linear', max_iter=500,\n",
              "                                    probability=True))],\n",
              "                   final_estimator=LogisticRegression())"
            ]
          },
          "execution_count": 31,
          "metadata": {},
          "output_type": "execute_result"
        }
      ],
      "source": [
        "# 5. Lakukanlah _stacking_ dengan _final classifier_ adalah _logistic regression_ dari model-model yang dibangun pada poin 2.\\n\",\n",
        "stacking = StackingClassifier(estimators=[('lr', logR), ('svm', clf)], final_estimator=LogisticRegression())\n",
        "stacking.fit(X_train, y_train)"
      ]
    },
    {
      "cell_type": "code",
      "execution_count": 42,
      "metadata": {},
      "outputs": [
        {
          "name": "stdout",
          "output_type": "stream",
          "text": [
            "0.800941839681012\n",
            "              precision    recall  f1-score   support\n",
            "\n",
            "         0.0       1.00      0.77      0.87     25294\n",
            "         1.0       0.40      1.00      0.57      3798\n",
            "\n",
            "    accuracy                           0.80     29092\n",
            "   macro avg       0.70      0.89      0.72     29092\n",
            "weighted avg       0.92      0.80      0.83     29092\n",
            "\n"
          ]
        }
      ],
      "source": [
        "#6. Lakukan validasi dengan metrics yang telah ditentukan untuk poin 3, 4, dan 5.\n",
        "y_test_soft = softvoting.predict(X_test)\n",
        "y_test_hard = hardvoting.predict(X_test)\n",
        "y_test_stacking = stacking.predict(X_test)\n",
        "\n",
        "print(accuracy_score(y_test_soft, y_pred))\n",
        "print(classification_report(y_test_soft, y_pred))\n"
      ]
    },
    {
      "cell_type": "code",
      "execution_count": 41,
      "metadata": {},
      "outputs": [
        {
          "name": "stdout",
          "output_type": "stream",
          "text": [
            "0.7656056647875704\n",
            "              precision    recall  f1-score   support\n",
            "\n",
            "         0.0       1.00      0.74      0.85     26322\n",
            "         1.0       0.29      1.00      0.45      2770\n",
            "\n",
            "    accuracy                           0.77     29092\n",
            "   macro avg       0.64      0.87      0.65     29092\n",
            "weighted avg       0.93      0.77      0.81     29092\n",
            "\n"
          ]
        }
      ],
      "source": [
        "print(accuracy_score(y_test_hard, y_pred))\n",
        "print(classification_report(y_test_hard, y_pred))"
      ]
    },
    {
      "cell_type": "code",
      "execution_count": 40,
      "metadata": {},
      "outputs": [
        {
          "name": "stdout",
          "output_type": "stream",
          "text": [
            "0.8079197030111371\n",
            "              precision    recall  f1-score   support\n",
            "\n",
            "         0.0       1.00      0.78      0.87     25091\n",
            "         1.0       0.42      1.00      0.59      4001\n",
            "\n",
            "    accuracy                           0.81     29092\n",
            "   macro avg       0.71      0.89      0.73     29092\n",
            "weighted avg       0.92      0.81      0.84     29092\n",
            "\n"
          ]
        }
      ],
      "source": [
        "\n",
        "print(accuracy_score(y_test_stacking, y_pred))\n",
        "print(classification_report(y_test_stacking, y_pred))"
      ]
    },
    {
      "cell_type": "markdown",
      "metadata": {
        "id": "unmFXb-73OMD"
      },
      "source": [
        "# IV. Analisis\n",
        "Bandingkan hasil dari hal-hal berikut:\n",
        "1. Model _baseline_ (II.3)\n",
        "2. Model lain (II.4)\n",
        "3. Hasil _undersampling_\n",
        "4. Hasil _oversampling_\n",
        "5. Hasil _soft voting_\n",
        "6. Hasil _hard voting_\n",
        "7. Hasil _stacking_"
      ]
    },
    {
      "cell_type": "markdown",
      "metadata": {
        "id": "e9x0VH2AAkwZ"
      },
      "source": [
        "(Tuliskan jawaban bagian IV di sini.)"
      ]
    }
  ],
  "metadata": {
    "colab": {
      "provenance": []
    },
    "kernelspec": {
      "display_name": "Python 3 (ipykernel)",
      "language": "python",
      "name": "python3"
    },
    "language_info": {
      "codemirror_mode": {
        "name": "ipython",
        "version": 3
      },
      "file_extension": ".py",
      "mimetype": "text/x-python",
      "name": "python",
      "nbconvert_exporter": "python",
      "pygments_lexer": "ipython3",
      "version": "3.9.13"
    }
  },
  "nbformat": 4,
  "nbformat_minor": 0
}
