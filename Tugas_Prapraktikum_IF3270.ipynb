{
  "cells": [
    {
      "cell_type": "markdown",
      "metadata": {
        "id": "bdq8ydSd4xUy"
      },
      "source": [
        "# Tugas Prapraktikum\n",
        "\n",
        "Tugas Prapraktikum dikerjakan dengan _dataset_ [Rain in Australia](https://www.kaggle.com/datasets/jsphyg/weather-dataset-rattle-package/download?datasetVersionNumber=2). Tanpa meninjau waktu (`date`), prediksi status hujan pada keesokan harinya (`RainTomorrow`). Berikan nilai `1` jika diprediksi hujan pada keesokan harinya, `0` jika tidak.\n",
        "\n",
        "<br>\n",
        "Tugas dikerjakan secara berkelompok. Setiap kelompok terdiri atas 2 (dua) mahasiswa. Kumpulkan paling lambat pada Minggu, 16 April 2023, pukul 23:59 WIB melalui Edunex."
      ]
    },
    {
      "cell_type": "markdown",
      "metadata": {
        "id": "XAHqneEY7b7b"
      },
      "source": [
        "# 0. Persiapan Data and Pustaka"
      ]
    },
    {
      "cell_type": "code",
      "execution_count": 3,
      "metadata": {
        "id": "zsBbpcIi7fHi"
      },
      "outputs": [],
      "source": [
        "# Letakkan pustaka di sini.\n",
        "import pandas as pd\n",
        "import seaborn as sns\n",
        "import matplotlib.pyplot as plt"
      ]
    },
    {
      "cell_type": "code",
      "execution_count": 4,
      "metadata": {
        "id": "OWLkjeKo7gdD"
      },
      "outputs": [],
      "source": [
        "# Baca data di sini.\n",
        "rain_data = pd.read_csv('weatherAUS.csv')"
      ]
    },
    {
      "cell_type": "markdown",
      "metadata": {
        "id": "JYGzyrantR1r"
      },
      "source": [
        "# I. Pemahaman Data\n",
        "Tujuan dari bagian ini adalah peserta dapat memahami kualitas dari data yang diberikan. Hal yang diliputi adalah sebagai berikut:\n",
        "1. Ukuran data\n",
        "2. Statistik dari tiap fitur\n",
        "3. Pencilan (_outlier_)\n",
        "4. Korelasi\n",
        "5. Distribusi "
      ]
    },
    {
      "cell_type": "markdown",
      "metadata": {
        "id": "8SMf9-ikuoCe"
      },
      "source": [
        "## I.1 \n",
        "Carilah:\n",
        "1. Ukuran dari data (instansi dan fitur)\n",
        "2. Tipe dari setiap fitur \n",
        "3. Banyak nilai unik dari fitur yang bertipe kategorikal\n",
        "4. Nilai minimum, maksimum, rata-rata, median, dan standar deviasi dari fitur nonkategorikal"
      ]
    },
    {
      "cell_type": "code",
      "execution_count": 24,
      "metadata": {
        "id": "SAxrfZySuM3-"
      },
      "outputs": [
        {
          "name": "stdout",
          "output_type": "stream",
          "text": [
            "Size of dataset is 145460 rows x 23 columns\n",
            "Number of instances: 145460\n",
            "Features: 22\n"
          ]
        },
        {
          "data": {
            "text/html": [
              "<div>\n",
              "<style scoped>\n",
              "    .dataframe tbody tr th:only-of-type {\n",
              "        vertical-align: middle;\n",
              "    }\n",
              "\n",
              "    .dataframe tbody tr th {\n",
              "        vertical-align: top;\n",
              "    }\n",
              "\n",
              "    .dataframe thead th {\n",
              "        text-align: right;\n",
              "    }\n",
              "</style>\n",
              "<table border=\"1\" class=\"dataframe\">\n",
              "  <thead>\n",
              "    <tr style=\"text-align: right;\">\n",
              "      <th></th>\n",
              "      <th>Date</th>\n",
              "      <th>Location</th>\n",
              "      <th>MinTemp</th>\n",
              "      <th>MaxTemp</th>\n",
              "      <th>Rainfall</th>\n",
              "      <th>Evaporation</th>\n",
              "      <th>Sunshine</th>\n",
              "      <th>WindGustDir</th>\n",
              "      <th>WindGustSpeed</th>\n",
              "      <th>WindDir9am</th>\n",
              "      <th>...</th>\n",
              "      <th>Humidity9am</th>\n",
              "      <th>Humidity3pm</th>\n",
              "      <th>Pressure9am</th>\n",
              "      <th>Pressure3pm</th>\n",
              "      <th>Cloud9am</th>\n",
              "      <th>Cloud3pm</th>\n",
              "      <th>Temp9am</th>\n",
              "      <th>Temp3pm</th>\n",
              "      <th>RainToday</th>\n",
              "      <th>RainTomorrow</th>\n",
              "    </tr>\n",
              "  </thead>\n",
              "  <tbody>\n",
              "    <tr>\n",
              "      <th>0</th>\n",
              "      <td>2008-12-01</td>\n",
              "      <td>Albury</td>\n",
              "      <td>13.4</td>\n",
              "      <td>22.9</td>\n",
              "      <td>0.6</td>\n",
              "      <td>NaN</td>\n",
              "      <td>NaN</td>\n",
              "      <td>W</td>\n",
              "      <td>44.0</td>\n",
              "      <td>W</td>\n",
              "      <td>...</td>\n",
              "      <td>71.0</td>\n",
              "      <td>22.0</td>\n",
              "      <td>1007.7</td>\n",
              "      <td>1007.1</td>\n",
              "      <td>8.0</td>\n",
              "      <td>NaN</td>\n",
              "      <td>16.9</td>\n",
              "      <td>21.8</td>\n",
              "      <td>No</td>\n",
              "      <td>No</td>\n",
              "    </tr>\n",
              "    <tr>\n",
              "      <th>1</th>\n",
              "      <td>2008-12-02</td>\n",
              "      <td>Albury</td>\n",
              "      <td>7.4</td>\n",
              "      <td>25.1</td>\n",
              "      <td>0.0</td>\n",
              "      <td>NaN</td>\n",
              "      <td>NaN</td>\n",
              "      <td>WNW</td>\n",
              "      <td>44.0</td>\n",
              "      <td>NNW</td>\n",
              "      <td>...</td>\n",
              "      <td>44.0</td>\n",
              "      <td>25.0</td>\n",
              "      <td>1010.6</td>\n",
              "      <td>1007.8</td>\n",
              "      <td>NaN</td>\n",
              "      <td>NaN</td>\n",
              "      <td>17.2</td>\n",
              "      <td>24.3</td>\n",
              "      <td>No</td>\n",
              "      <td>No</td>\n",
              "    </tr>\n",
              "    <tr>\n",
              "      <th>2</th>\n",
              "      <td>2008-12-03</td>\n",
              "      <td>Albury</td>\n",
              "      <td>12.9</td>\n",
              "      <td>25.7</td>\n",
              "      <td>0.0</td>\n",
              "      <td>NaN</td>\n",
              "      <td>NaN</td>\n",
              "      <td>WSW</td>\n",
              "      <td>46.0</td>\n",
              "      <td>W</td>\n",
              "      <td>...</td>\n",
              "      <td>38.0</td>\n",
              "      <td>30.0</td>\n",
              "      <td>1007.6</td>\n",
              "      <td>1008.7</td>\n",
              "      <td>NaN</td>\n",
              "      <td>2.0</td>\n",
              "      <td>21.0</td>\n",
              "      <td>23.2</td>\n",
              "      <td>No</td>\n",
              "      <td>No</td>\n",
              "    </tr>\n",
              "    <tr>\n",
              "      <th>3</th>\n",
              "      <td>2008-12-04</td>\n",
              "      <td>Albury</td>\n",
              "      <td>9.2</td>\n",
              "      <td>28.0</td>\n",
              "      <td>0.0</td>\n",
              "      <td>NaN</td>\n",
              "      <td>NaN</td>\n",
              "      <td>NE</td>\n",
              "      <td>24.0</td>\n",
              "      <td>SE</td>\n",
              "      <td>...</td>\n",
              "      <td>45.0</td>\n",
              "      <td>16.0</td>\n",
              "      <td>1017.6</td>\n",
              "      <td>1012.8</td>\n",
              "      <td>NaN</td>\n",
              "      <td>NaN</td>\n",
              "      <td>18.1</td>\n",
              "      <td>26.5</td>\n",
              "      <td>No</td>\n",
              "      <td>No</td>\n",
              "    </tr>\n",
              "    <tr>\n",
              "      <th>4</th>\n",
              "      <td>2008-12-05</td>\n",
              "      <td>Albury</td>\n",
              "      <td>17.5</td>\n",
              "      <td>32.3</td>\n",
              "      <td>1.0</td>\n",
              "      <td>NaN</td>\n",
              "      <td>NaN</td>\n",
              "      <td>W</td>\n",
              "      <td>41.0</td>\n",
              "      <td>ENE</td>\n",
              "      <td>...</td>\n",
              "      <td>82.0</td>\n",
              "      <td>33.0</td>\n",
              "      <td>1010.8</td>\n",
              "      <td>1006.0</td>\n",
              "      <td>7.0</td>\n",
              "      <td>8.0</td>\n",
              "      <td>17.8</td>\n",
              "      <td>29.7</td>\n",
              "      <td>No</td>\n",
              "      <td>No</td>\n",
              "    </tr>\n",
              "  </tbody>\n",
              "</table>\n",
              "<p>5 rows × 23 columns</p>\n",
              "</div>"
            ],
            "text/plain": [
              "         Date Location  MinTemp  MaxTemp  Rainfall  Evaporation  Sunshine  \\\n",
              "0  2008-12-01   Albury     13.4     22.9       0.6          NaN       NaN   \n",
              "1  2008-12-02   Albury      7.4     25.1       0.0          NaN       NaN   \n",
              "2  2008-12-03   Albury     12.9     25.7       0.0          NaN       NaN   \n",
              "3  2008-12-04   Albury      9.2     28.0       0.0          NaN       NaN   \n",
              "4  2008-12-05   Albury     17.5     32.3       1.0          NaN       NaN   \n",
              "\n",
              "  WindGustDir  WindGustSpeed WindDir9am  ... Humidity9am  Humidity3pm  \\\n",
              "0           W           44.0          W  ...        71.0         22.0   \n",
              "1         WNW           44.0        NNW  ...        44.0         25.0   \n",
              "2         WSW           46.0          W  ...        38.0         30.0   \n",
              "3          NE           24.0         SE  ...        45.0         16.0   \n",
              "4           W           41.0        ENE  ...        82.0         33.0   \n",
              "\n",
              "   Pressure9am  Pressure3pm  Cloud9am  Cloud3pm  Temp9am  Temp3pm  RainToday  \\\n",
              "0       1007.7       1007.1       8.0       NaN     16.9     21.8         No   \n",
              "1       1010.6       1007.8       NaN       NaN     17.2     24.3         No   \n",
              "2       1007.6       1008.7       NaN       2.0     21.0     23.2         No   \n",
              "3       1017.6       1012.8       NaN       NaN     18.1     26.5         No   \n",
              "4       1010.8       1006.0       7.0       8.0     17.8     29.7         No   \n",
              "\n",
              "   RainTomorrow  \n",
              "0            No  \n",
              "1            No  \n",
              "2            No  \n",
              "3            No  \n",
              "4            No  \n",
              "\n",
              "[5 rows x 23 columns]"
            ]
          },
          "execution_count": 24,
          "metadata": {},
          "output_type": "execute_result"
        }
      ],
      "source": [
        "#1 Ukuran dari data (instansi dan fitur)\n",
        "print(\"Size of dataset is \" + str(rain_data.shape[0]) +\" rows x \" + str(rain_data.shape[1]) + \" columns\")\n",
        "print(\"Number of instances: \" + str(rain_data.shape[0]))\n",
        "print(\"Features: \" + str(rain_data.shape[1]-1))\n",
        "rain_data.head()"
      ]
    },
    {
      "cell_type": "code",
      "execution_count": 35,
      "metadata": {},
      "outputs": [
        {
          "name": "stdout",
          "output_type": "stream",
          "text": [
            "<class 'pandas.core.frame.DataFrame'>\n",
            "RangeIndex: 145460 entries, 0 to 145459\n",
            "Data columns (total 23 columns):\n",
            " #   Column         Non-Null Count   Dtype  \n",
            "---  ------         --------------   -----  \n",
            " 0   Date           145460 non-null  object \n",
            " 1   Location       145460 non-null  object \n",
            " 2   MinTemp        143975 non-null  float64\n",
            " 3   MaxTemp        144199 non-null  float64\n",
            " 4   Rainfall       142199 non-null  float64\n",
            " 5   Evaporation    82670 non-null   float64\n",
            " 6   Sunshine       75625 non-null   float64\n",
            " 7   WindGustDir    135134 non-null  object \n",
            " 8   WindGustSpeed  135197 non-null  float64\n",
            " 9   WindDir9am     134894 non-null  object \n",
            " 10  WindDir3pm     141232 non-null  object \n",
            " 11  WindSpeed9am   143693 non-null  float64\n",
            " 12  WindSpeed3pm   142398 non-null  float64\n",
            " 13  Humidity9am    142806 non-null  float64\n",
            " 14  Humidity3pm    140953 non-null  float64\n",
            " 15  Pressure9am    130395 non-null  float64\n",
            " 16  Pressure3pm    130432 non-null  float64\n",
            " 17  Cloud9am       89572 non-null   float64\n",
            " 18  Cloud3pm       86102 non-null   float64\n",
            " 19  Temp9am        143693 non-null  float64\n",
            " 20  Temp3pm        141851 non-null  float64\n",
            " 21  RainToday      142199 non-null  object \n",
            " 22  RainTomorrow   142193 non-null  object \n",
            "dtypes: float64(16), object(7)\n",
            "memory usage: 25.5+ MB\n"
          ]
        }
      ],
      "source": [
        "#2 Tipe dari setiap fitur\n",
        "rain_data.info()"
      ]
    },
    {
      "cell_type": "code",
      "execution_count": 29,
      "metadata": {},
      "outputs": [
        {
          "data": {
            "text/plain": [
              "2013-11-12    49\n",
              "2014-09-01    49\n",
              "2014-08-23    49\n",
              "2014-08-24    49\n",
              "2014-08-25    49\n",
              "              ..\n",
              "2007-11-29     1\n",
              "2007-11-28     1\n",
              "2007-11-27     1\n",
              "2007-11-26     1\n",
              "2008-01-31     1\n",
              "Name: Date, Length: 3436, dtype: int64"
            ]
          },
          "execution_count": 29,
          "metadata": {},
          "output_type": "execute_result"
        }
      ],
      "source": [
        "#3 Banyak nilai unik dari fitur yang bertipe kategorikal\n",
        "rain_data[\"Date\"].value_counts() #i dont think date categorical data?"
      ]
    },
    {
      "cell_type": "code",
      "execution_count": 28,
      "metadata": {},
      "outputs": [
        {
          "data": {
            "text/plain": [
              "Canberra            3436\n",
              "Sydney              3344\n",
              "Darwin              3193\n",
              "Melbourne           3193\n",
              "Brisbane            3193\n",
              "Adelaide            3193\n",
              "Perth               3193\n",
              "Hobart              3193\n",
              "Albany              3040\n",
              "MountGambier        3040\n",
              "Ballarat            3040\n",
              "Townsville          3040\n",
              "GoldCoast           3040\n",
              "Cairns              3040\n",
              "Launceston          3040\n",
              "AliceSprings        3040\n",
              "Bendigo             3040\n",
              "Albury              3040\n",
              "MountGinini         3040\n",
              "Wollongong          3040\n",
              "Newcastle           3039\n",
              "Tuggeranong         3039\n",
              "Penrith             3039\n",
              "Woomera             3009\n",
              "Nuriootpa           3009\n",
              "Cobar               3009\n",
              "CoffsHarbour        3009\n",
              "Moree               3009\n",
              "Sale                3009\n",
              "PerthAirport        3009\n",
              "PearceRAAF          3009\n",
              "Witchcliffe         3009\n",
              "BadgerysCreek       3009\n",
              "Mildura             3009\n",
              "NorfolkIsland       3009\n",
              "MelbourneAirport    3009\n",
              "Richmond            3009\n",
              "SydneyAirport       3009\n",
              "WaggaWagga          3009\n",
              "Williamtown         3009\n",
              "Dartmoor            3009\n",
              "Watsonia            3009\n",
              "Portland            3009\n",
              "Walpole             3006\n",
              "NorahHead           3004\n",
              "SalmonGums          3001\n",
              "Katherine           1578\n",
              "Nhil                1578\n",
              "Uluru               1578\n",
              "Name: Location, dtype: int64"
            ]
          },
          "execution_count": 28,
          "metadata": {},
          "output_type": "execute_result"
        }
      ],
      "source": [
        "rain_data[\"Location\"].value_counts()"
      ]
    },
    {
      "cell_type": "code",
      "execution_count": 30,
      "metadata": {},
      "outputs": [
        {
          "data": {
            "text/plain": [
              "W      9915\n",
              "SE     9418\n",
              "N      9313\n",
              "SSE    9216\n",
              "E      9181\n",
              "S      9168\n",
              "WSW    9069\n",
              "SW     8967\n",
              "SSW    8736\n",
              "WNW    8252\n",
              "NW     8122\n",
              "ENE    8104\n",
              "ESE    7372\n",
              "NE     7133\n",
              "NNW    6620\n",
              "NNE    6548\n",
              "Name: WindGustDir, dtype: int64"
            ]
          },
          "execution_count": 30,
          "metadata": {},
          "output_type": "execute_result"
        }
      ],
      "source": [
        "rain_data[\"WindGustDir\"].value_counts()"
      ]
    },
    {
      "cell_type": "code",
      "execution_count": 31,
      "metadata": {},
      "outputs": [
        {
          "data": {
            "text/plain": [
              "N      11758\n",
              "SE      9287\n",
              "E       9176\n",
              "SSE     9112\n",
              "NW      8749\n",
              "S       8659\n",
              "W       8459\n",
              "SW      8423\n",
              "NNE     8129\n",
              "NNW     7980\n",
              "ENE     7836\n",
              "NE      7671\n",
              "ESE     7630\n",
              "SSW     7587\n",
              "WNW     7414\n",
              "WSW     7024\n",
              "Name: WindDir9am, dtype: int64"
            ]
          },
          "execution_count": 31,
          "metadata": {},
          "output_type": "execute_result"
        }
      ],
      "source": [
        "rain_data[\"WindDir9am\"].value_counts()"
      ]
    },
    {
      "cell_type": "code",
      "execution_count": 32,
      "metadata": {},
      "outputs": [
        {
          "data": {
            "text/plain": [
              "SE     10838\n",
              "W      10110\n",
              "S       9926\n",
              "WSW     9518\n",
              "SSE     9399\n",
              "SW      9354\n",
              "N       8890\n",
              "WNW     8874\n",
              "NW      8610\n",
              "ESE     8505\n",
              "E       8472\n",
              "NE      8263\n",
              "SSW     8156\n",
              "NNW     7870\n",
              "ENE     7857\n",
              "NNE     6590\n",
              "Name: WindDir3pm, dtype: int64"
            ]
          },
          "execution_count": 32,
          "metadata": {},
          "output_type": "execute_result"
        }
      ],
      "source": [
        "rain_data[\"WindDir3pm\"].value_counts()"
      ]
    },
    {
      "cell_type": "code",
      "execution_count": 33,
      "metadata": {},
      "outputs": [
        {
          "data": {
            "text/plain": [
              "No     110319\n",
              "Yes     31880\n",
              "Name: RainToday, dtype: int64"
            ]
          },
          "execution_count": 33,
          "metadata": {},
          "output_type": "execute_result"
        }
      ],
      "source": [
        "rain_data[\"RainToday\"].value_counts()"
      ]
    },
    {
      "cell_type": "code",
      "execution_count": 36,
      "metadata": {},
      "outputs": [
        {
          "data": {
            "text/html": [
              "<div>\n",
              "<style scoped>\n",
              "    .dataframe tbody tr th:only-of-type {\n",
              "        vertical-align: middle;\n",
              "    }\n",
              "\n",
              "    .dataframe tbody tr th {\n",
              "        vertical-align: top;\n",
              "    }\n",
              "\n",
              "    .dataframe thead th {\n",
              "        text-align: right;\n",
              "    }\n",
              "</style>\n",
              "<table border=\"1\" class=\"dataframe\">\n",
              "  <thead>\n",
              "    <tr style=\"text-align: right;\">\n",
              "      <th></th>\n",
              "      <th>MinTemp</th>\n",
              "      <th>MaxTemp</th>\n",
              "      <th>Rainfall</th>\n",
              "      <th>Evaporation</th>\n",
              "      <th>Sunshine</th>\n",
              "      <th>WindGustSpeed</th>\n",
              "      <th>WindSpeed9am</th>\n",
              "      <th>WindSpeed3pm</th>\n",
              "      <th>Humidity9am</th>\n",
              "      <th>Humidity3pm</th>\n",
              "      <th>Pressure9am</th>\n",
              "      <th>Pressure3pm</th>\n",
              "      <th>Cloud9am</th>\n",
              "      <th>Cloud3pm</th>\n",
              "      <th>Temp9am</th>\n",
              "    </tr>\n",
              "  </thead>\n",
              "  <tbody>\n",
              "    <tr>\n",
              "      <th>count</th>\n",
              "      <td>143975.000000</td>\n",
              "      <td>144199.000000</td>\n",
              "      <td>142199.000000</td>\n",
              "      <td>82670.000000</td>\n",
              "      <td>75625.000000</td>\n",
              "      <td>135197.000000</td>\n",
              "      <td>143693.000000</td>\n",
              "      <td>142398.000000</td>\n",
              "      <td>142806.000000</td>\n",
              "      <td>140953.000000</td>\n",
              "      <td>130395.00000</td>\n",
              "      <td>130432.000000</td>\n",
              "      <td>89572.000000</td>\n",
              "      <td>86102.000000</td>\n",
              "      <td>143693.000000</td>\n",
              "    </tr>\n",
              "    <tr>\n",
              "      <th>mean</th>\n",
              "      <td>12.194034</td>\n",
              "      <td>23.221348</td>\n",
              "      <td>2.360918</td>\n",
              "      <td>5.468232</td>\n",
              "      <td>7.611178</td>\n",
              "      <td>40.035230</td>\n",
              "      <td>14.043426</td>\n",
              "      <td>18.662657</td>\n",
              "      <td>68.880831</td>\n",
              "      <td>51.539116</td>\n",
              "      <td>1017.64994</td>\n",
              "      <td>1015.255889</td>\n",
              "      <td>4.447461</td>\n",
              "      <td>4.509930</td>\n",
              "      <td>16.990631</td>\n",
              "    </tr>\n",
              "    <tr>\n",
              "      <th>std</th>\n",
              "      <td>6.398495</td>\n",
              "      <td>7.119049</td>\n",
              "      <td>8.478060</td>\n",
              "      <td>4.193704</td>\n",
              "      <td>3.785483</td>\n",
              "      <td>13.607062</td>\n",
              "      <td>8.915375</td>\n",
              "      <td>8.809800</td>\n",
              "      <td>19.029164</td>\n",
              "      <td>20.795902</td>\n",
              "      <td>7.10653</td>\n",
              "      <td>7.037414</td>\n",
              "      <td>2.887159</td>\n",
              "      <td>2.720357</td>\n",
              "      <td>6.488753</td>\n",
              "    </tr>\n",
              "    <tr>\n",
              "      <th>min</th>\n",
              "      <td>-8.500000</td>\n",
              "      <td>-4.800000</td>\n",
              "      <td>0.000000</td>\n",
              "      <td>0.000000</td>\n",
              "      <td>0.000000</td>\n",
              "      <td>6.000000</td>\n",
              "      <td>0.000000</td>\n",
              "      <td>0.000000</td>\n",
              "      <td>0.000000</td>\n",
              "      <td>0.000000</td>\n",
              "      <td>980.50000</td>\n",
              "      <td>977.100000</td>\n",
              "      <td>0.000000</td>\n",
              "      <td>0.000000</td>\n",
              "      <td>-7.200000</td>\n",
              "    </tr>\n",
              "    <tr>\n",
              "      <th>25%</th>\n",
              "      <td>7.600000</td>\n",
              "      <td>17.900000</td>\n",
              "      <td>0.000000</td>\n",
              "      <td>2.600000</td>\n",
              "      <td>4.800000</td>\n",
              "      <td>31.000000</td>\n",
              "      <td>7.000000</td>\n",
              "      <td>13.000000</td>\n",
              "      <td>57.000000</td>\n",
              "      <td>37.000000</td>\n",
              "      <td>1012.90000</td>\n",
              "      <td>1010.400000</td>\n",
              "      <td>1.000000</td>\n",
              "      <td>2.000000</td>\n",
              "      <td>12.300000</td>\n",
              "    </tr>\n",
              "    <tr>\n",
              "      <th>50%</th>\n",
              "      <td>12.000000</td>\n",
              "      <td>22.600000</td>\n",
              "      <td>0.000000</td>\n",
              "      <td>4.800000</td>\n",
              "      <td>8.400000</td>\n",
              "      <td>39.000000</td>\n",
              "      <td>13.000000</td>\n",
              "      <td>19.000000</td>\n",
              "      <td>70.000000</td>\n",
              "      <td>52.000000</td>\n",
              "      <td>1017.60000</td>\n",
              "      <td>1015.200000</td>\n",
              "      <td>5.000000</td>\n",
              "      <td>5.000000</td>\n",
              "      <td>16.700000</td>\n",
              "    </tr>\n",
              "    <tr>\n",
              "      <th>75%</th>\n",
              "      <td>16.900000</td>\n",
              "      <td>28.200000</td>\n",
              "      <td>0.800000</td>\n",
              "      <td>7.400000</td>\n",
              "      <td>10.600000</td>\n",
              "      <td>48.000000</td>\n",
              "      <td>19.000000</td>\n",
              "      <td>24.000000</td>\n",
              "      <td>83.000000</td>\n",
              "      <td>66.000000</td>\n",
              "      <td>1022.40000</td>\n",
              "      <td>1020.000000</td>\n",
              "      <td>7.000000</td>\n",
              "      <td>7.000000</td>\n",
              "      <td>21.600000</td>\n",
              "    </tr>\n",
              "    <tr>\n",
              "      <th>max</th>\n",
              "      <td>33.900000</td>\n",
              "      <td>48.100000</td>\n",
              "      <td>371.000000</td>\n",
              "      <td>145.000000</td>\n",
              "      <td>14.500000</td>\n",
              "      <td>135.000000</td>\n",
              "      <td>130.000000</td>\n",
              "      <td>87.000000</td>\n",
              "      <td>100.000000</td>\n",
              "      <td>100.000000</td>\n",
              "      <td>1041.00000</td>\n",
              "      <td>1039.600000</td>\n",
              "      <td>9.000000</td>\n",
              "      <td>9.000000</td>\n",
              "      <td>40.200000</td>\n",
              "    </tr>\n",
              "  </tbody>\n",
              "</table>\n",
              "</div>"
            ],
            "text/plain": [
              "             MinTemp        MaxTemp       Rainfall   Evaporation  \\\n",
              "count  143975.000000  144199.000000  142199.000000  82670.000000   \n",
              "mean       12.194034      23.221348       2.360918      5.468232   \n",
              "std         6.398495       7.119049       8.478060      4.193704   \n",
              "min        -8.500000      -4.800000       0.000000      0.000000   \n",
              "25%         7.600000      17.900000       0.000000      2.600000   \n",
              "50%        12.000000      22.600000       0.000000      4.800000   \n",
              "75%        16.900000      28.200000       0.800000      7.400000   \n",
              "max        33.900000      48.100000     371.000000    145.000000   \n",
              "\n",
              "           Sunshine  WindGustSpeed   WindSpeed9am   WindSpeed3pm  \\\n",
              "count  75625.000000  135197.000000  143693.000000  142398.000000   \n",
              "mean       7.611178      40.035230      14.043426      18.662657   \n",
              "std        3.785483      13.607062       8.915375       8.809800   \n",
              "min        0.000000       6.000000       0.000000       0.000000   \n",
              "25%        4.800000      31.000000       7.000000      13.000000   \n",
              "50%        8.400000      39.000000      13.000000      19.000000   \n",
              "75%       10.600000      48.000000      19.000000      24.000000   \n",
              "max       14.500000     135.000000     130.000000      87.000000   \n",
              "\n",
              "         Humidity9am    Humidity3pm   Pressure9am    Pressure3pm  \\\n",
              "count  142806.000000  140953.000000  130395.00000  130432.000000   \n",
              "mean       68.880831      51.539116    1017.64994    1015.255889   \n",
              "std        19.029164      20.795902       7.10653       7.037414   \n",
              "min         0.000000       0.000000     980.50000     977.100000   \n",
              "25%        57.000000      37.000000    1012.90000    1010.400000   \n",
              "50%        70.000000      52.000000    1017.60000    1015.200000   \n",
              "75%        83.000000      66.000000    1022.40000    1020.000000   \n",
              "max       100.000000     100.000000    1041.00000    1039.600000   \n",
              "\n",
              "           Cloud9am      Cloud3pm        Temp9am  \n",
              "count  89572.000000  86102.000000  143693.000000  \n",
              "mean       4.447461      4.509930      16.990631  \n",
              "std        2.887159      2.720357       6.488753  \n",
              "min        0.000000      0.000000      -7.200000  \n",
              "25%        1.000000      2.000000      12.300000  \n",
              "50%        5.000000      5.000000      16.700000  \n",
              "75%        7.000000      7.000000      21.600000  \n",
              "max        9.000000      9.000000      40.200000  "
            ]
          },
          "execution_count": 36,
          "metadata": {},
          "output_type": "execute_result"
        }
      ],
      "source": [
        "#4 Nilai minimum, maksimum, rata-rata, median, dan standar deviasi dari fitur nonkategorikal\n",
        "rain_data[[\"MinTemp\",\"MaxTemp\",\"Rainfall\",\"Evaporation\",\"Sunshine\",\"WindGustSpeed\",\"WindSpeed9am\",\"WindSpeed3pm\",\"Humidity9am\",\"Humidity3pm\",\"Pressure9am\",\"Pressure3pm\",\"Cloud9am\",\"Cloud3pm\",\"Temp9am\"]].describe()"
      ]
    },
    {
      "cell_type": "markdown",
      "metadata": {
        "id": "VE1l_gOTwHuz"
      },
      "source": [
        "## I.2\n",
        "Carilah:\n",
        "1. Nilai hilang (_missing_) dari setiap fitur\n",
        "2. Nilai pencilan (_outlier_) dari setiap fitur"
      ]
    },
    {
      "cell_type": "code",
      "execution_count": null,
      "metadata": {
        "id": "IGe-YWAvwQDr"
      },
      "outputs": [],
      "source": [
        "# I.2 Kode di sini.\n"
      ]
    },
    {
      "cell_type": "markdown",
      "metadata": {
        "id": "8tUGStQ_wR4P"
      },
      "source": [
        "## I.3\n",
        "Lakukan:\n",
        "1. Pencarian korelasi antarfitur\n",
        "2. Visualisasi distribusi setiap fitur (kategorikal dan kontinu)\n",
        "3. Visualisasi distribusi setiap fitur per target (`RainTomorrow`)"
      ]
    },
    {
      "cell_type": "code",
      "execution_count": null,
      "metadata": {
        "id": "XoBqyQA1wRNX"
      },
      "outputs": [],
      "source": [
        "# I.3 Kode di sini."
      ]
    },
    {
      "cell_type": "markdown",
      "metadata": {
        "id": "kV3BDt235mdz"
      },
      "source": [
        "## I.4\n",
        "Lakukanlah analisis lebih lanjut jika diperlukan, kemudian lakukan hal berikut:\n",
        "1. Penambahan fitur jika memungkinkan\n",
        "2. Pembuangan fitur yang menurut kalian tidak dibutuhkan\n",
        "3. Penanganan nilai hilang\n",
        "4. Transformasi data kategorikal menjadi numerikal (_encoding_)\n",
        "5. _Scaling_ dengan `MinMaxScaler`"
      ]
    },
    {
      "cell_type": "code",
      "execution_count": null,
      "metadata": {
        "id": "jlTGspG_56re"
      },
      "outputs": [],
      "source": [
        "# I.4 Put your code here"
      ]
    },
    {
      "cell_type": "code",
      "execution_count": null,
      "metadata": {
        "id": "uWUqD_8NBrC6"
      },
      "outputs": [],
      "source": []
    },
    {
      "cell_type": "markdown",
      "metadata": {
        "id": "mt2zHZRauLIm"
      },
      "source": [
        "# II. Desain Eksperimen\n",
        "Tujuan dari bagian ini adalah peserta dapat memahami cara melakukan eksperimen mencari metode terbaik dengan benar. Hal yang diliputi adalah sebagai berikut:\n",
        "1. Pembuatan model\n",
        "2. Proses validasi\n",
        "3. _Hyperparameter tuning_"
      ]
    },
    {
      "cell_type": "markdown",
      "metadata": {
        "id": "Kf4xsl8RydIt"
      },
      "source": [
        "## II.1\n",
        "Tentukanlah metrik yang akan digunakan pada eksperimen kali ini. Metrik yang dapat lebih dari satu jenis."
      ]
    },
    {
      "cell_type": "markdown",
      "metadata": {
        "id": "S2I0axfj4OuC"
      },
      "source": [
        "(Tuliskan jawaban bagian II.1 di sini.)"
      ]
    },
    {
      "cell_type": "markdown",
      "metadata": {
        "id": "FONT0OyUyoQG"
      },
      "source": [
        "## II.2 \n",
        "Bagi data dengan perbandingan 0,8 untuk data latih dan 0,2 untuk data validasi."
      ]
    },
    {
      "cell_type": "code",
      "execution_count": null,
      "metadata": {
        "id": "Gqa9nn5muMS2"
      },
      "outputs": [],
      "source": [
        "# II.2 Kode di sini"
      ]
    },
    {
      "cell_type": "markdown",
      "metadata": {
        "id": "V4yS8O3tyyyh"
      },
      "source": [
        "## II.3\n",
        "Lakukan hal berikut:\n",
        "1. Prediksi dengan menggunakan model _logistic regression_ sebagai _baseline_.\n",
        "2. Tampilkan evaluasi dari model yang dibangun dari metrik yang ditentukan pada II.1\n",
        "3. Tampilkan _confusion matrix_."
      ]
    },
    {
      "cell_type": "code",
      "execution_count": null,
      "metadata": {
        "id": "EpEqAz94yyQo"
      },
      "outputs": [],
      "source": [
        "# II.3 Kode di sini"
      ]
    },
    {
      "cell_type": "markdown",
      "metadata": {
        "id": "aFB2AlZfzU54"
      },
      "source": [
        "## II.4 \n",
        "Lakukanlah:\n",
        "1. Pembelajaran dengan model lain\n",
        "2. _Hyperparameter tuning_ untuk model yang dipakai dengan menggunakan _grid search_ (perhatikan _random factor_ pada beberapa algoritma model)\n",
        "3. Validasi dengan _cross validation_\n"
      ]
    },
    {
      "cell_type": "code",
      "execution_count": null,
      "metadata": {
        "id": "df0YVJ7dzUSc"
      },
      "outputs": [],
      "source": [
        "# II.4 Kode di sini."
      ]
    },
    {
      "cell_type": "markdown",
      "metadata": {
        "id": "5ePIGuRZuNZb"
      },
      "source": [
        "# III. Improvement\n",
        "Pada bagian ini, kalian diharapkan dapat:\n",
        "1. melakukan pelatihan dengan data hasil _oversampling_ / _undersampling_, disertai dengan validasi yang benar; serta\n",
        "2. menerapkan beberapa metode untuk menggabungkan beberapa model.\n",
        "\n",
        "Kedua hal ini adalah contoh metode untuk meningkatkan kinerja dari model."
      ]
    },
    {
      "cell_type": "markdown",
      "metadata": {
        "id": "NGgjXVqf1vhN"
      },
      "source": [
        "## III.1\n",
        "Lakukanlah:\n",
        "1. _Oversampling_ pada kelas minoritas pada data latih\n",
        "2. _Undersampling_ pada kelas mayoritas pada data latih\n",
        "\n",
        "Pada setiap tahap, latih dengan model *baseline* (II.3), dan validasi dengan data validasi. Data latih dan validasi adalah data yang disusun pada bagian II.2."
      ]
    },
    {
      "cell_type": "code",
      "execution_count": null,
      "metadata": {
        "id": "bLLLsyoF2GIM"
      },
      "outputs": [],
      "source": [
        "# III.1 Kode di sini."
      ]
    },
    {
      "cell_type": "markdown",
      "metadata": {
        "id": "FtbGHN3P2Fxe"
      },
      "source": [
        "## III.2\n",
        "Lakukanlah:\n",
        "1. Eksplorasi _soft voting_, _hard voting_, dan _stacking_.\n",
        "2. Buatlah model _logistic regression_ dan SVM.\n",
        "3. Lakukanlah _soft voting_ dari model-model yang dibangun pada poin 2.\n",
        "4. Lakukan _hard voting_ dari model-model yang dibangun pada poin 2.\n",
        "5. Lakukanlah _stacking_ dengan _final classifier_ adalah _logistic regression_ dari model-model yang dibangun pada poin 2.\n",
        "6. Lakukan validasi dengan metrics yang telah ditentukan untuk poin 3, 4, dan 5."
      ]
    },
    {
      "cell_type": "markdown",
      "metadata": {
        "id": "NfGqy72SAZ-t"
      },
      "source": [
        "(Tuliskan hasil eksplorasi III.2 poin 1 di sini.)"
      ]
    },
    {
      "cell_type": "code",
      "execution_count": null,
      "metadata": {
        "id": "zdchguBQtErx"
      },
      "outputs": [],
      "source": [
        "# III.2 Kode di sini."
      ]
    },
    {
      "cell_type": "markdown",
      "metadata": {
        "id": "unmFXb-73OMD"
      },
      "source": [
        "# IV. Analisis\n",
        "Bandingkan hasil dari hal-hal berikut:\n",
        "1. Model _baseline_ (II.3)\n",
        "2. Model lain (II.4)\n",
        "3. Hasil _undersampling_\n",
        "4. Hasil _oversampling_\n",
        "5. Hasil _soft voting_\n",
        "6. Hasil _hard voting_\n",
        "7. Hasil _stacking_"
      ]
    },
    {
      "cell_type": "markdown",
      "metadata": {
        "id": "e9x0VH2AAkwZ"
      },
      "source": [
        "(Tuliskan jawaban bagian IV di sini.)"
      ]
    }
  ],
  "metadata": {
    "colab": {
      "provenance": []
    },
    "kernelspec": {
      "display_name": "Python 3 (ipykernel)",
      "language": "python",
      "name": "python3"
    },
    "language_info": {
      "codemirror_mode": {
        "name": "ipython",
        "version": 3
      },
      "file_extension": ".py",
      "mimetype": "text/x-python",
      "name": "python",
      "nbconvert_exporter": "python",
      "pygments_lexer": "ipython3",
      "version": "3.9.13"
    }
  },
  "nbformat": 4,
  "nbformat_minor": 0
}
